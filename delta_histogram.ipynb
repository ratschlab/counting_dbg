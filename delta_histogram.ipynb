{
 "cells": [
  {
   "cell_type": "code",
   "execution_count": 1,
   "metadata": {},
   "outputs": [],
   "source": [
    "import sys\n",
    "import matplotlib.pyplot as plt\n",
    "import time\n",
    "import datetime\n",
    "import numpy as np\n",
    "from math import ceil\n",
    "\n",
    "with open('viruses_hifi_sample_dates.csv', 'r') as f:\n",
    "    virus_map = dict(line.rstrip().split(\",\") for line in f if len(line.rstrip().split(\",\")[1]))\n",
    "    \n",
    "num_sample_map = dict()\n",
    "for sra, date in virus_map.items():\n",
    "    if len(date) != 10:\n",
    "        print(sra,date,len(sra),len(date))\n",
    "    date = time.mktime(datetime.datetime.strptime(date, \"%Y-%m-%d\").timetuple())    \n",
    "    if date not in num_sample_map:\n",
    "        num_sample_map[date] = [0, 0]\n",
    "    num_sample_map[date][0] += 1\n",
    "    \n",
    "num_samples = 7\n",
    "sample_map = dict()\n",
    "with open('delta_variants.fa.out.parsed.reads', 'r') as f:\n",
    "    for line in f:\n",
    "        line = line.rstrip().split(\"\\t\")\n",
    "        idx = int(line[0])\n",
    "        for match in line[2:]:\n",
    "            sample, coords = match.split(\":\")\n",
    "            sample = sample.split(\"/\")[-2]\n",
    "            if sample not in sample_map:\n",
    "                sample_map[sample] = [set() for i in range(num_samples)]\n",
    "            sample_map[sample][idx] = sample_map[sample][idx].union(int(a) for a in coords.split(\",\"))\n",
    "    "
   ]
  },
  {
   "cell_type": "code",
   "execution_count": 2,
   "metadata": {},
   "outputs": [
    {
     "name": "stdout",
     "output_type": "stream",
     "text": [
      "151545\n",
      "91745\n"
     ]
    }
   ],
   "source": [
    "from copy import copy\n",
    "\n",
    "date_to_sample = dict()\n",
    "date_to_count = dict()\n",
    "for date in num_sample_map:\n",
    "    date_to_sample[date] = 0\n",
    "    date_to_count[date] = 0\n",
    "    num_sample_map[date][1] = 0\n",
    "    \n",
    "print(len(sample_map))\n",
    "total = 0\n",
    "for sample, coords in sample_map.items():\n",
    "    if any(len(a) == 0 for a in coords):\n",
    "        continue\n",
    "    total += 1\n",
    "        \n",
    "    coord_union = copy(coords[0])\n",
    "    for next_coords in coords[1:]:\n",
    "        coord_union = coord_union.union(next_coords)\n",
    "    a = sorted(list(coord_union),reverse=True)\n",
    "    a_s = np.array(a[1:] + [-2001])\n",
    "    a = np.array(a)\n",
    "    b = a[a - a_s > 2000]\n",
    "    date = virus_map[sample]\n",
    "    date = time.mktime(datetime.datetime.strptime(date, \"%Y-%m-%d\").timetuple())\n",
    "    date_to_count[date] += len(b)\n",
    "    date_to_sample[date] += 1\n",
    "    num_sample_map[date][1] += 1\n",
    "date_to_sample = sorted([(a,b) for a,b in date_to_sample.items()])\n",
    "date_to_count = sorted([(a,b) for a,b in date_to_count.items()])\n",
    "num_sample_map_fold = sorted([(a,b) for a,b in num_sample_map.items()])\n",
    "print(total)"
   ]
  },
  {
   "cell_type": "code",
   "execution_count": 10,
   "metadata": {},
   "outputs": [
    {
     "name": "stdout",
     "output_type": "stream",
     "text": [
      "0.9050864659409763\n"
     ]
    },
    {
     "data": {
      "image/png": "[encoded data removed]",
      "text/plain": [
       "<Figure size 720x216 with 2 Axes>"
      ]
     },
     "metadata": {},
     "output_type": "display_data"
    }
   ],
   "source": [
    "from math import ceil\n",
    "plt.style.use('seaborn-whitegrid')\n",
    "plt.rcParams.update({\n",
    "    \"text.usetex\": False,\n",
    "    \"font.family\": \"sans-serif\",\n",
    "})\n",
    "f, axs = plt.subplots(1,2,figsize=(10,3))\n",
    "fontsize=8\n",
    "fontsize_big=12\n",
    "\n",
    "month = 2629746 * 1\n",
    "\n",
    "def fix_xlabels(ax,dates):\n",
    "    num_steps = int(ceil((dates[-1]-dates[0])/month)) + 1\n",
    "    xticks = [dates[0] + i * month for i in range(num_steps)]\n",
    "    xticklabels = [datetime.datetime.utcfromtimestamp(a).strftime('%b') for a in xticks]\n",
    "    ax.set_xticks(xticks)\n",
    "    ax.set_xticklabels(xticklabels,fontsize=fontsize_big)\n",
    "\n",
    "for ax,data,ylabel in zip(axs[1:],\n",
    "                          #[date_to_sample,date_to_count],\n",
    "                          [date_to_count],\n",
    "                          #[\"Number of SMRT samples in SRA\",\"Number of HiFi reads in SRA\"]):\n",
    "                          [\"Number of SMRT \" + r\"$\\bf{reads}$\"]):\n",
    "    t = min([i for i,(a,(b,c)) in enumerate(num_sample_map_fold) if c > 0]) - 1\n",
    "    dates = np.array([a for a,b in data[t:]])\n",
    "    counts = np.array([b for a,b in data[t:]])\n",
    "    fraction = np.array([c/b for a,(b,c) in num_sample_map_fold[t:]])\n",
    "    counts = np.cumsum(counts)\n",
    "    #ax.plot(dates,counts)\n",
    "    #print(len(dates))\n",
    "    #ax.bar(x=dates,height=counts,width=3)\n",
    "    ax.plot(dates,counts,ms=5,marker=\"o\")\n",
    "    ax.set_xlabel(\"SRA Query Date (2021)\",fontsize=fontsize_big)\n",
    "    fix_xlabels(ax,dates)\n",
    "    ax.set_ylabel(ylabel,fontsize=fontsize_big)\n",
    "    plt.yticks(fontsize=fontsize_big)\n",
    "    \n",
    "#t = 0\n",
    "t = min([i for i,(a,(b,c)) in enumerate(num_sample_map_fold) if c > 0]) - 1\n",
    "total_samples = np.array([b for a,(b,c) in num_sample_map_fold[t:]])\n",
    "delta_samples = np.array([c for a,(b,c) in num_sample_map_fold[t:]])\n",
    "dates = np.array([a for a,b in num_sample_map_fold[t:]])\n",
    "#axs[0].plot(dates,delta_samples/total_samples,ms=5,marker=\"o\")\n",
    "axs[0].bar((dates - dates[0]) / (dates[-1]-dates[0]),\n",
    "           delta_samples,\n",
    "           width=1/len(dates)/1.5,\n",
    "           label=\"SARS-CoV-2 delta variant\",\n",
    "           alpha=0.7,color=\"C1\")\n",
    "axs[0].bar((dates - dates[0]) / (dates[-1]-dates[0]),\n",
    "           total_samples-delta_samples,\n",
    "           bottom=delta_samples,\n",
    "           width=1/len(dates)/1.5,\n",
    "           label=\"All viruses\",\n",
    "           alpha=0.7,color=\"C0\")\n",
    "num_steps = int(ceil((dates[-1]-dates[0])/month)) + 1\n",
    "xticks = np.array([dates[0] + i * month for i in range(num_steps)])\n",
    "print((delta_samples[dates >= xticks[1]]).sum()/ (total_samples[dates >= xticks[1]]).sum())\n",
    "plot_xticks = (xticks - dates[0]) / (dates[-1]-dates[0])\n",
    "axs[0].set_xticks(plot_xticks)\n",
    "xticklabels = [datetime.datetime.utcfromtimestamp(a).strftime('%b') for a in xticks]\n",
    "axs[0].set_xticklabels(xticklabels,fontsize=fontsize_big)\n",
    "axs[0].set_ylabel(\"Number of SMRT \" + r\"$\\bf{samples}$\",fontsize=fontsize_big)\n",
    "axs[0].set_xlabel(\"Upload Date (2021)\",fontsize=fontsize_big)\n",
    "axs[0].legend()\n",
    "\n",
    "f.tight_layout(pad=2)\n",
    "f.savefig(\"delta_histogram.pdf\",bbox_inches='tight',pad_inches=0)"
   ]
  }
 ],
 "metadata": {
  "kernelspec": {
   "display_name": "Python 3 (ipykernel)",
   "language": "python",
   "name": "python3"
  },
  "language_info": {
   "codemirror_mode": {
    "name": "ipython",
    "version": 3
   },
   "file_extension": ".py",
   "mimetype": "text/x-python",
   "name": "python",
   "nbconvert_exporter": "python",
   "pygments_lexer": "ipython3",
   "version": "3.8.10"
  }
 },
 "nbformat": 4,
 "nbformat_minor": 2
}
