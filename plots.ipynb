{
 "cells": [
  {
   "cell_type": "code",
   "execution_count": 1,
   "id": "addeddb1",
   "metadata": {
    "ExecuteTime": {
     "end_time": "2021-11-08T11:23:06.898720Z",
     "start_time": "2021-11-08T11:23:05.365370Z"
    }
   },
   "outputs": [],
   "source": [
    "import os\n",
    "import numpy as np\n",
    "import pickle\n",
    "from tqdm import tqdm\n",
    "from scipy.optimize import curve_fit\n",
    "from matplotlib import pyplot as plt\n",
    "from IPython.display import set_matplotlib_formats\n",
    "#set_matplotlib_formats('png', 'pdf')\n",
    "import numpy as np\n",
    "import matplotlib as mpl\n",
    "import gzip as gz\n",
    "import sys\n",
    "mpl.rcParams.update(mpl.rcParamsDefault)\n",
    "\n",
    "width = 3.487 * 1.5 * 1.1\n",
    "height = width / 1.618 * 1.2\n",
    "\n",
    "plt.rc('font', family='sans-serif')#, serif='Times')\n",
    "plt.rc('xtick', labelsize=10)\n",
    "plt.rc('ytick', labelsize=10)\n",
    "plt.rc('axes', labelsize=12)\n",
    "plt.rc('legend', fontsize=10)\n",
    "#plt.rcParams['mathtext.fontset'] = 'stix'\n",
    "#plt.rcParams['font.family'] = 'STIXGeneral'\n",
    "params = {\n",
    "'text.usetex': True,\n",
    "#'font.size': 15,\n",
    "#'text.latex.unicode': True\n",
    "}\n",
    "plt.rcParams.update(params)\n",
    "\n",
    "#fig, axes = plt.subplots(1, 1, figsize=(width, height))\n",
    "#ax = axes\n",
    "#ax.set_title('RefSeq assembly graph')\n",
    "\n",
    "# colors = ['c', 'b', 'g', 'r']\n",
    "\n",
    "%matplotlib inline\n",
    "%load_ext autoreload\n",
    "%autoreload 2"
   ]
  },
  {
   "cell_type": "markdown",
   "id": "aa49ed37",
   "metadata": {
    "ExecuteTime": {
     "end_time": "2021-10-08T10:01:23.424239Z",
     "start_time": "2021-10-08T10:01:20.108060Z"
    }
   },
   "source": [
    "np.random.seed(10)\n",
    "with open('/cluster/home/mikhaika/metagenome/data/coordinates_K/data/random_1M.fasta', 'w') as f:\n",
    "    for i in range(1000000):\n",
    "        kmer = ''.join(np.random.choice(['A', 'C', 'G', 'T'], 21))\n",
    "        count = np.random.randint(1, 1000)\n",
    "        f.write(f'>\\n{kmer}\\n' * count)"
   ]
  },
  {
   "cell_type": "code",
   "execution_count": 2,
   "id": "9f285dd6",
   "metadata": {
    "ExecuteTime": {
     "end_time": "2021-11-08T11:23:14.076169Z",
     "start_time": "2021-11-08T11:23:14.058142Z"
    }
   },
   "outputs": [],
   "source": [
    "def get_size(fname):\n",
    "    try:\n",
    "        return os.path.getsize(fname)\n",
    "    except:\n",
    "        return np.nan"
   ]
  },
  {
   "cell_type": "markdown",
   "id": "a259aa99",
   "metadata": {},
   "source": [
    "## PacBio SMRT Viruses reads"
   ]
  },
  {
   "cell_type": "code",
   "execution_count": 3,
   "id": "aa0d8c90",
   "metadata": {
    "ExecuteTime": {
     "end_time": "2021-11-08T11:23:23.816196Z",
     "start_time": "2021-11-08T11:23:23.729704Z"
    },
    "scrolled": false
   },
   "outputs": [],
   "source": [
    "with open('gzip_spring_size.pkl', 'rb') as f:\n",
    "    gzip, spring_size, gzip_size = pickle.load(f)\n",
    "\n",
    "# gzip = !find ~/metagenome/data/hifi_sra/viruses_hifi_data/compressed -name \"*_no_header.fasta.gz\"\n",
    "\n",
    "# spring_size = []\n",
    "# gzip_size = []\n",
    "\n",
    "# for x in tqdm(gzip):\n",
    "#     gzip_size.append(get_size(x))\n",
    "#     ID = x[:-len('_no_header.fasta.gz')]\n",
    "#     spring_fname = f'{ID}_no_header.spring'\n",
    "#     spring_size.append(get_size(spring_fname))\n",
    "\n",
    "# spring_size = np.array(spring_size)\n",
    "# gzip_size = np.array(gzip_size)\n",
    "\n",
    "# with open('gzip_spring_size.pkl', 'wb') as f:\n",
    "#     pickle.dump((gzip, spring_size, gzip_size), f)"
   ]
  },
  {
   "cell_type": "code",
   "execution_count": 4,
   "id": "ae45466d",
   "metadata": {
    "ExecuteTime": {
     "end_time": "2021-11-08T11:23:25.625909Z",
     "start_time": "2021-11-08T11:23:25.601498Z"
    }
   },
   "outputs": [],
   "source": [
    "with open('hifi_score_ratio.pkl', 'rb') as f:\n",
    "    score_ratio = pickle.load(f)\n",
    "\n",
    "# score_ratio = []\n",
    "\n",
    "# for x in tqdm(gzip, mininterval=5):\n",
    "#     ID = x[:-len('_no_header.fasta.gz')]\n",
    "#     SRA = ID.split('/')[-1]\n",
    "#     file = f'/cluster/home/mikhaika/metagenome/raw_data/hifi_sra/viruses_hifi_data/{SRA}/{SRA}.fastq.gz'\n",
    "#     scores = ! zless $file | paste - - - - | cut -f4 | head -n 100\n",
    "#     score_ratio.append(np.mean([s == '~' for s in ''.join(scores)]))\n",
    "\n",
    "# score_ratio = np.array(score_ratio)\n",
    "# with open('hifi_score_ratio.pkl', 'wb') as f:\n",
    "#     pickle.dump(score_ratio, f)"
   ]
  },
  {
   "cell_type": "code",
   "execution_count": 5,
   "id": "c82fff4b",
   "metadata": {
    "ExecuteTime": {
     "end_time": "2021-11-08T11:23:25.800307Z",
     "start_time": "2021-11-08T11:23:25.775428Z"
    }
   },
   "outputs": [],
   "source": [
    "with open('num_bp.pkl', 'rb') as f:\n",
    "    num_bp = pickle.load(f)\n",
    "\n",
    "# num_bp = []\n",
    "\n",
    "# for x in tqdm(gzip, mininterval=5):\n",
    "#     fname = x[:-len('_no_header.fasta.gz')] + '_num_bp'\n",
    "#     with open(fname, 'r') as f:\n",
    "#         n = int(f.readline())\n",
    "#         num_bp.append(n)\n",
    "\n",
    "# num_bp = np.array(num_bp)\n",
    "\n",
    "# with open('num_bp.pkl', 'wb') as f:\n",
    "#     pickle.dump(num_bp, f)"
   ]
  },
  {
   "cell_type": "code",
   "execution_count": 6,
   "id": "f5cd92dc",
   "metadata": {
    "ExecuteTime": {
     "end_time": "2021-11-08T11:23:25.948536Z",
     "start_time": "2021-11-08T11:23:25.923985Z"
    }
   },
   "outputs": [],
   "source": [
    "with open('mtg_size.pkl', 'rb') as f:\n",
    "    mtg_size = pickle.load(f)\n",
    "\n",
    "# mtg_size = []\n",
    "\n",
    "# DIR = !echo $HOME\n",
    "# DIR = f'{DIR[0]}/metagenome/data/hifi_sra/viruses_hifi_data/mtg'\n",
    "\n",
    "# for x in gzip:\n",
    "#     ID = x.split('/')[-1][:-len('_no_header.fasta.gz')]\n",
    "#     graph_size = get_size(f'{DIR}/{ID[:6]}/{ID}/graph_small.dbg')\n",
    "#     anno_size = get_size(f'{DIR}/{ID[:6]}/{ID}/annotation.row_diff_coord.annodbg')\n",
    "#     mtg_size.append(graph_size + anno_size)\n",
    "\n",
    "# mtg_size = np.array(mtg_size)\n",
    "\n",
    "# with open('mtg_size.pkl', 'wb') as f:\n",
    "#     pickle.dump(mtg_size, f)"
   ]
  },
  {
   "cell_type": "code",
   "execution_count": 7,
   "id": "48eee7cf",
   "metadata": {
    "ExecuteTime": {
     "end_time": "2021-11-08T11:23:27.306014Z",
     "start_time": "2021-11-08T11:23:27.281806Z"
    }
   },
   "outputs": [],
   "source": [
    "with open('pfish_size.pkl', 'rb') as f:\n",
    "    pfish_size = pickle.load(f)\n",
    "\n",
    "# from pathlib import Path\n",
    "\n",
    "# pfish_size = []\n",
    "\n",
    "# DIR = !echo $HOME\n",
    "# DIR = f'{DIR[0]}/metagenome/data/hifi_sra/viruses_hifi_data/pufferfish_sparse'\n",
    "\n",
    "# for x in tqdm(gzip, mininterval=5):\n",
    "#     ID = x.split('/')[-1][:-len('_no_header.fasta.gz')]\n",
    "#     pfish_size.append(sum(f.stat().st_size for f in Path(f'{DIR}/{ID[:6]}/{ID}/{ID}').glob('*') if f.is_file()))\n",
    "\n",
    "# pfish_size = np.array(pfish_size)\n",
    "\n",
    "# with open('pfish_size.pkl', 'wb') as f:\n",
    "#     pickle.dump(pfish_size, f)"
   ]
  },
  {
   "cell_type": "code",
   "execution_count": 8,
   "id": "5238f351",
   "metadata": {
    "ExecuteTime": {
     "end_time": "2021-11-08T11:23:27.474339Z",
     "start_time": "2021-11-08T11:23:27.445289Z"
    }
   },
   "outputs": [],
   "source": [
    "with open('blast_size.pkl', 'rb') as f:\n",
    "    blast_size = pickle.load(f)\n",
    "\n",
    "# from pathlib import Path\n",
    "\n",
    "# blast_size = []\n",
    "\n",
    "# DIR = !echo $HOME\n",
    "# DIR = f'{DIR[0]}/metagenome/data/hifi_sra/viruses_hifi_data/blast'\n",
    "\n",
    "# for x in tqdm(gzip):\n",
    "#     ID = x.split('/')[-1][:-len('_no_header.fasta.gz')]\n",
    "#     blast_size.append(sum(f.stat().st_size for f in Path(f'{DIR}/{ID[:6]}/{ID}').glob('*') if f.is_file()))\n",
    "\n",
    "# blast_size = np.array(blast_size)\n",
    "\n",
    "# with open('blast_size.pkl', 'wb') as f:\n",
    "#     pickle.dump(blast_size, f)"
   ]
  },
  {
   "cell_type": "code",
   "execution_count": 9,
   "id": "9261d1df",
   "metadata": {
    "ExecuteTime": {
     "end_time": "2021-11-08T11:23:27.638952Z",
     "start_time": "2021-11-08T11:23:27.611228Z"
    }
   },
   "outputs": [],
   "source": [
    "with open('mgblst_size.pkl', 'rb') as f:\n",
    "    mgblst_size = pickle.load(f)\n",
    "\n",
    "# from pathlib import Path\n",
    "\n",
    "# mgblst_size = []\n",
    "\n",
    "# DIR = !echo $HOME\n",
    "# DIR = f'{DIR[0]}/metagenome/data/hifi_sra/viruses_hifi_data/megablast'\n",
    "\n",
    "# for x in tqdm(gzip, mininterval=5):\n",
    "#     ID = x.split('/')[-1][:-len('_no_header.fasta.gz')]\n",
    "#     mgblst_size.append(sum(f.stat().st_size for f in Path(f'{DIR}/{ID[:6]}/{ID}').glob('*') if f.is_file()))\n",
    "\n",
    "# mgblst_size = np.array(mgblst_size) + blast_size\n",
    "\n",
    "# with open('mgblst_size.pkl', 'wb') as f:\n",
    "#     pickle.dump(mgblst_size, f)"
   ]
  },
  {
   "cell_type": "code",
   "execution_count": 10,
   "id": "07b89508",
   "metadata": {
    "ExecuteTime": {
     "end_time": "2021-11-08T11:23:29.050059Z",
     "start_time": "2021-11-08T11:23:29.003016Z"
    }
   },
   "outputs": [
    {
     "data": {
      "text/plain": [
       "149.967152078"
      ]
     },
     "execution_count": 10,
     "metadata": {},
     "output_type": "execute_result"
    }
   ],
   "source": [
    "sum(gzip_size) / 1e9"
   ]
  },
  {
   "cell_type": "code",
   "execution_count": 11,
   "id": "5c1470a5",
   "metadata": {
    "ExecuteTime": {
     "end_time": "2021-11-08T11:23:29.657090Z",
     "start_time": "2021-11-08T11:23:29.614931Z"
    },
    "scrolled": true
   },
   "outputs": [
    {
     "data": {
      "text/plain": [
       "875.484502657"
      ]
     },
     "execution_count": 11,
     "metadata": {},
     "output_type": "execute_result"
    }
   ],
   "source": [
    "sum(num_bp) / 1e9"
   ]
  },
  {
   "cell_type": "code",
   "execution_count": 12,
   "id": "22ce3594",
   "metadata": {
    "ExecuteTime": {
     "end_time": "2021-11-08T11:23:30.989599Z",
     "start_time": "2021-11-08T11:23:30.715425Z"
    },
    "scrolled": true
   },
   "outputs": [
    {
     "name": "stdout",
     "output_type": "stream",
     "text": [
      "MegaBLAST compression: 0.1\n",
      "Pufferfish compression: 0.3\n",
      "BLAST compression: 3.1\n",
      "gzip -9 compression: 5.8\n",
      "mtg compression: 6.2\n",
      "Spring compression: 18.0\n"
     ]
    }
   ],
   "source": [
    "print(f\"MegaBLAST compression: {sum(num_bp) / sum(mgblst_size - blast_size):.1f}\")\n",
    "print(f\"Pufferfish compression: {sum(num_bp) / sum(pfish_size):.1f}\")\n",
    "print(f\"BLAST compression: {sum(num_bp) / sum(blast_size):.1f}\")\n",
    "print(f\"gzip -9 compression: {sum(num_bp) / sum(gzip_size):.1f}\")\n",
    "print(f\"mtg compression: {sum(num_bp) / sum(mtg_size):.1f}\")\n",
    "print(f\"Spring compression: {sum(num_bp) / sum(spring_size):.1f}\")"
   ]
  },
  {
   "cell_type": "code",
   "execution_count": 13,
   "id": "c129057a",
   "metadata": {
    "ExecuteTime": {
     "end_time": "2021-11-08T11:23:32.567451Z",
     "start_time": "2021-11-08T11:23:32.214294Z"
    },
    "scrolled": true
   },
   "outputs": [
    {
     "name": "stdout",
     "output_type": "stream",
     "text": [
      "MegaBLAST bits/bp: 105.352\n",
      "Pufferfish bits/bp: 25.113\n",
      "BLAST bits/bp: 2.580\n",
      "gzip -9 bits/bp: 1.370\n",
      "mtg bits/bp: 1.300\n",
      "Spring bits/bp: 0.445\n"
     ]
    }
   ],
   "source": [
    "print(f\"MegaBLAST bits/bp: {sum(mgblst_size - blast_size) * 8 / sum(num_bp):.3f}\")\n",
    "print(f\"Pufferfish bits/bp: {sum(pfish_size) * 8 / sum(num_bp):.3f}\")\n",
    "print(f\"BLAST bits/bp: {sum(blast_size) * 8 / sum(num_bp):.3f}\")\n",
    "print(f\"gzip -9 bits/bp: {sum(gzip_size) * 8 / sum(num_bp):.3f}\")\n",
    "print(f\"mtg bits/bp: {sum(mtg_size) * 8 / sum(num_bp):.3f}\")\n",
    "print(f\"Spring bits/bp: {sum(spring_size) * 8 / sum(num_bp):.3f}\")"
   ]
  },
  {
   "cell_type": "code",
   "execution_count": 14,
   "id": "6807effa",
   "metadata": {
    "ExecuteTime": {
     "end_time": "2021-11-08T11:23:34.067192Z",
     "start_time": "2021-11-08T11:23:34.044221Z"
    }
   },
   "outputs": [
    {
     "data": {
      "text/plain": [
       "152884"
      ]
     },
     "execution_count": 14,
     "metadata": {},
     "output_type": "execute_result"
    }
   ],
   "source": [
    "len(score_ratio)"
   ]
  },
  {
   "cell_type": "markdown",
   "id": "cee58ede",
   "metadata": {},
   "source": [
    "### HiFi reads"
   ]
  },
  {
   "cell_type": "markdown",
   "id": "c26f608c",
   "metadata": {},
   "source": [
    "Now out of all 152,884 PacBio SMRT samples, we are going to select only the Hi-Fi ones.\n",
    "This is not a property written in the metadata at NCBI SRA, so we're going to use the fact that for Hi-Fi sequencing, most of the sequencing scores are '\\~'. Thus, we're going to look at the frequency of '\\~' quality scores in each sample and filter out those samples for which this frequency is less than 0.7."
   ]
  },
  {
   "cell_type": "code",
   "execution_count": 15,
   "id": "03641724",
   "metadata": {
    "ExecuteTime": {
     "end_time": "2021-11-08T11:23:38.979338Z",
     "start_time": "2021-11-08T11:23:36.298239Z"
    }
   },
   "outputs": [
    {
     "data": {
      "image/png": "[encoded data removed]",
      "text/plain": [
       "<Figure size 376.596x232.754 with 1 Axes>"
      ]
     },
     "metadata": {
      "needs_background": "light"
     },
     "output_type": "display_data"
    }
   ],
   "source": [
    "width = 3.487 * 1.5 * 1\n",
    "height = width / 1.618\n",
    "\n",
    "plt.figure(figsize=(width, height))\n",
    "plt.hist(score_ratio, bins=100)\n",
    "plt.xlabel('fraction of tilda scores')\n",
    "plt.ylabel('\\# read sets')\n",
    "plt.grid()\n",
    "plt.tight_layout()\n",
    "plt.savefig('hifi_score_frequency.pdf', format='pdf', bbox_inches='tight')\n",
    "plt.show()"
   ]
  },
  {
   "cell_type": "markdown",
   "id": "c3dd9c25",
   "metadata": {
    "ExecuteTime": {
     "end_time": "2021-10-22T14:01:27.717591Z",
     "start_time": "2021-10-22T14:01:27.687609Z"
    }
   },
   "source": [
    "The fraction of libraries we keep:"
   ]
  },
  {
   "cell_type": "code",
   "execution_count": 16,
   "id": "255041f2",
   "metadata": {
    "ExecuteTime": {
     "end_time": "2021-11-08T11:23:39.949629Z",
     "start_time": "2021-11-08T11:23:39.923148Z"
    }
   },
   "outputs": [
    {
     "name": "stdout",
     "output_type": "stream",
     "text": [
      "99.70%\n"
     ]
    }
   ],
   "source": [
    "print(f'{np.mean(score_ratio > 0.7) * 100:.2f}%')"
   ]
  },
  {
   "cell_type": "code",
   "execution_count": 17,
   "id": "ff17867c",
   "metadata": {
    "ExecuteTime": {
     "end_time": "2021-11-08T11:23:41.214106Z",
     "start_time": "2021-11-08T11:23:40.920383Z"
    }
   },
   "outputs": [
    {
     "data": {
      "text/plain": [
       "152418"
      ]
     },
     "execution_count": 17,
     "metadata": {},
     "output_type": "execute_result"
    }
   ],
   "source": [
    "sum(score_ratio > 0.7)"
   ]
  },
  {
   "cell_type": "code",
   "execution_count": 18,
   "id": "c8d921fe",
   "metadata": {
    "ExecuteTime": {
     "end_time": "2021-11-08T11:23:42.019543Z",
     "start_time": "2021-11-08T11:23:41.951495Z"
    }
   },
   "outputs": [
    {
     "data": {
      "text/plain": [
       "38.4434618997873"
      ]
     },
     "execution_count": 18,
     "metadata": {},
     "output_type": "execute_result"
    }
   ],
   "source": [
    "sum(num_bp[score_ratio > 0.7]) / sum(spring_size[score_ratio > 0.7])"
   ]
  },
  {
   "cell_type": "markdown",
   "id": "0619a934",
   "metadata": {},
   "source": [
    "As we can see, only 0.3% of samples were discarded by this criterion:"
   ]
  },
  {
   "cell_type": "code",
   "execution_count": 19,
   "id": "822619af",
   "metadata": {
    "ExecuteTime": {
     "end_time": "2021-11-08T11:23:46.793737Z",
     "start_time": "2021-11-08T11:23:46.656146Z"
    }
   },
   "outputs": [
    {
     "name": "stdout",
     "output_type": "stream",
     "text": [
      "[['SRR3474205' '0.0']\n",
      " ['SRR3474206' '0.0']\n",
      " ['SRR3474203' '0.0']\n",
      " ['SRR3474204' '0.0']\n",
      " ['SRR2041922' '0.0']\n",
      " ['SRR2042468' '0.0']\n",
      " ['SRR7892517' '0.0']\n",
      " ['SRR528818' '0.0']\n",
      " ['SRR528803' '0.012313836425659372']\n",
      " ['SRR528788' '4.7216582463761274e-05']\n",
      " ['SRR528812' '0.000330531683822835']\n",
      " ['SRR528819' '8.756567425569177e-05']\n",
      " ['SRR528843' '0.0']\n",
      " ['SRR528777' '0.004063148093283109']\n",
      " ['SRR528808' '0.0']\n",
      " ['SRR528796' '0.0']\n",
      " ['SRR528798' '0.0003410932037179159']\n",
      " ['SRR528838' '0.0004110903028365231']\n",
      " ['SRR528842' '0.0018848700967906266']\n",
      " ['SRR528846' '4.169967891247237e-05']\n",
      " ['SRR528831' '0.0']\n",
      " ['SRR528826' '0.0']\n",
      " ['SRR528837' '0.0']\n",
      " ['SRR528833' '0.0']\n",
      " ['SRR528850' '4.5724737082761774e-05']\n",
      " ['SRR528851' '0.004765943697241407']\n",
      " ['SRR528834' '0.0']\n",
      " ['SRR528840' '0.005685971895053204']\n",
      " ['SRR528802' '0.006106529975484734']\n",
      " ['SRR528828' '0.013454861111111112']\n",
      " ['SRR528852' '0.003726272412432598']\n",
      " ['SRR528835' '0.00021592675764380722']\n",
      " ['SRR528773' '0.0']\n",
      " ['SRR528774' '0.0002110261144816671']\n",
      " ['SRR528821' '0.0']\n",
      " ['SRR528797' '0.0']\n",
      " ['SRR528779' '0.005623003194888179']\n",
      " ['SRR528799' '0.0006172023101000749']\n",
      " ['SRR528783' '0.0']\n",
      " ['SRR528830' '0.002552204176334107']\n",
      " ['SRR528832' '0.0']\n",
      " ['SRR528810' '9.33009889904833e-05']\n",
      " ['SRR528805' '0.0']\n",
      " ['SRR528781' '0.0037033883875361826']\n",
      " ['SRR528829' '0.003840142889037732']\n",
      " ['SRR528816' '0.00711699338244475']\n",
      " ['SRR528790' '4.348771472059143e-05']\n",
      " ['SRR528791' '0.0']\n",
      " ['SRR528794' '0.000434824620736303']\n",
      " ['SRR528786' '0.0']\n",
      " ['SRR528822' '0.0']\n",
      " ['SRR528813' '0.005290748471022231']\n",
      " ['SRR528825' '0.0']\n",
      " ['SRR528782' '0.00013240940989539657']\n",
      " ['SRR528784' '0.0']\n",
      " ['SRR528807' '0.0']\n",
      " ['SRR528785' '0.0']\n",
      " ['SRR528792' '0.01160426481527399']\n",
      " ['SRR528789' '0.0']\n",
      " ['SRR528800' '0.005330388013830196']\n",
      " ['SRR528811' '0.0']\n",
      " ['SRR528844' '0.0']\n",
      " ['SRR528778' '0.009758497683381852']\n",
      " ['SRR528787' '0.0']\n",
      " ['SRR528847' '0.0']\n",
      " ['SRR528814' '0.010677360131413663']\n",
      " ['SRR528827' '0.009347753185781354']\n",
      " ['SRR528815' '0.00014349947383526261']\n",
      " ['SRR528823' '0.0']\n",
      " ['SRR528795' '0.020664281034222066']\n",
      " ['SRR528817' '0.0']\n",
      " ['SRR528776' '0.0026750456456201433']\n",
      " ['SRR528839' '0.004344646621069385']\n",
      " ['SRR528841' '0.00039209920109787774']\n",
      " ['SRR528801' '0.007307656953764133']\n",
      " ['SRR528836' '0.0']\n",
      " ['SRR528848' '0.0']\n",
      " ['SRR528845' '4.0498947027377285e-05']\n",
      " ['SRR528809' '0.0013437364542696142']\n",
      " ['SRR528780' '0.001470129638704504']\n",
      " ['SRR528820' '0.0']\n",
      " ['SRR528824' '0.0']\n",
      " ['SRR528849' '0.0']\n",
      " ['SRR528775' '0.004971286534670438']\n",
      " ['SRR528806' '0.0005354274495805819']\n",
      " ['SRR528772' '0.001183431952662722']\n",
      " ['SRR528804' '0.00014357501794687725']\n",
      " ['SRR528793' '0.006513894746707906']\n",
      " ['ERR1223793' '0.0']\n",
      " ['ERR1223795' '0.0']\n",
      " ['ERR1223796' '0.0']\n",
      " ['ERR1223794' '0.0']\n",
      " ['SRR530880' '0.0']\n",
      " ['SRR530881' '0.0']\n",
      " ['SRR530879' '0.0']\n",
      " ['SRR13587452' '0.5030821497994852']\n",
      " ['SRR13587445' '0.20904349280611095']\n",
      " ['SRR13587449' '0.15409143839716172']\n",
      " ['SRR13587443' '0.1337693625445785']\n",
      " ['SRR13587446' '0.10435234622724876']\n",
      " ['SRR13587450' '0.4296596666487638']\n",
      " ['SRR13587447' '0.1730288749430173']\n",
      " ['SRR13587448' '0.2673204069581716']\n",
      " ['SRR13587451' '0.3925533243986098']\n",
      " ['SRR13587444' '0.14208893008688042']\n",
      " ['SRR5122814' '0.0']\n",
      " ['SRR5122783' '0.0']\n",
      " ['SRR5122802' '0.0']\n",
      " ['SRR5122817' '0.0']\n",
      " ['SRR5122793' '0.0']\n",
      " ['SRR5122799' '0.0']\n",
      " ['SRR5122786' '0.0']\n",
      " ['SRR5122796' '0.0']\n",
      " ['SRR5122831' '0.0']\n",
      " ['SRR5122789' '0.0']\n",
      " ['SRR5122797' '0.0']\n",
      " ['SRR5122800' '0.0']\n",
      " ['SRR5122782' '0.0']\n",
      " ['SRR5122790' '0.0']\n",
      " ['SRR5122816' '0.0']\n",
      " ['SRR5122828' '0.0']\n",
      " ['SRR5122812' '0.0']\n",
      " ['SRR5122830' '0.0']\n",
      " ['SRR5122807' '0.0']\n",
      " ['SRR5122806' '0.0']\n",
      " ['SRR5122785' '0.0']\n",
      " ['SRR5122795' '0.0']\n",
      " ['SRR5122787' '0.0']\n",
      " ['SRR5122820' '0.0']\n",
      " ['SRR5122803' '0.0']\n",
      " ['SRR5122829' '0.0']\n",
      " ['SRR5122805' '0.0']\n",
      " ['SRR5122826' '0.0']\n",
      " ['SRR5122825' '0.0']\n",
      " ['SRR5122827' '0.0']\n",
      " ['SRR5122815' '0.0']\n",
      " ['SRR5122798' '0.0']\n",
      " ['SRR5122824' '0.0']\n",
      " ['SRR5122821' '0.0']\n",
      " ['SRR5122811' '0.0']\n",
      " ['SRR5122801' '0.0']\n",
      " ['SRR5122822' '0.0']\n",
      " ['SRR5122788' '0.0']\n",
      " ['SRR5122792' '0.0']\n",
      " ['SRR5122810' '0.0']\n",
      " ['SRR5122784' '0.0']\n",
      " ['SRR5122794' '0.0']\n",
      " ['SRR5122818' '0.0']\n",
      " ['SRR5122823' '0.0']\n",
      " ['SRR5122804' '0.0']\n",
      " ['SRR5122808' '0.0']\n",
      " ['SRR5122813' '0.0']\n",
      " ['SRR5122809' '0.0']\n",
      " ['SRR5122819' '0.0']\n",
      " ['SRR5122791' '0.0']\n",
      " ['SRR1640361' '0.0']\n",
      " ['SRR1640364' '0.0']\n",
      " ['SRR1640362' '0.0']\n",
      " ['SRR1640363' '0.0']\n",
      " ['SRR15157490' '0.6876163384530207']\n",
      " ['SRR16031424' '0.6774074646564332']\n",
      " ['ERR2270747' '0.6277316441449566']\n",
      " ['ERR2643772' '0.0']\n",
      " ['ERR2643773' '0.5088229041173552']\n",
      " ['ERR2643771' '0.0']\n",
      " ['ERR2106423' '0.0']\n",
      " ['ERR2106426' '0.0']\n",
      " ['ERR2106421' '0.0']\n",
      " ['ERR2106424' '0.0']\n",
      " ['ERR2106427' '0.0']\n",
      " ['ERR2106428' '0.0']\n",
      " ['ERR2106425' '0.0']\n",
      " ['ERR2106422' '0.0']\n",
      " ['SRR6917576' '0.0']\n",
      " ['SRR13736174' '0.6761586752642742']\n",
      " ['ERR3278853' '0.0']\n",
      " ['DRR014572' '0.0']\n",
      " ['DRR014571' '0.0']\n",
      " ['SRR1801372' '0.0']\n",
      " ['SRR1801364' '0.0']\n",
      " ['SRR1801365' '0.0']\n",
      " ['SRR1801367' '0.0']\n",
      " ['SRR1801368' '0.0']\n",
      " ['SRR1801369' '0.0']\n",
      " ['SRR1801366' '0.0']\n",
      " ['SRR5429726' '0.0']\n",
      " ['SRR5429728' '0.0']\n",
      " ['SRR13380676' '0.0']\n",
      " ['SRR13380672' '0.0']\n",
      " ['SRR13380671' '0.0']\n",
      " ['SRR13380670' '0.0']\n",
      " ['SRR13380667' '0.0']\n",
      " ['SRR13380665' '0.0']\n",
      " ['SRR13380669' '0.0']\n",
      " ['SRR13380675' '0.0']\n",
      " ['SRR13380673' '0.0']\n",
      " ['SRR13380666' '0.0']\n",
      " ['SRR13380674' '0.0']\n",
      " ['SRR5559126' '0.0']\n",
      " ['SRR5559127' '0.0']\n",
      " ['SRR11171704' '0.2762613592942701']\n",
      " ['SRR11171707' '0.27485813066713627']\n",
      " ['SRR11171706' '0.48870420227086503']\n",
      " ['SRR11171703' '0.3627130641420238']\n",
      " ['SRR11171711' '0.0']\n",
      " ['SRR11171709' '0.2594387230164718']\n",
      " ['SRR11171710' '0.24382310557146333']\n",
      " ['SRR11171705' '0.4038882122605063']\n",
      " ['SRR11171708' '0.22884325279702294']\n",
      " ['SRR2126279' '0.0']\n",
      " ['SRR2126028' '0.0']\n",
      " ['SRR2126272' '0.0']\n",
      " ['SRR2126271' '0.0']\n",
      " ['SRR2126274' '0.0']\n",
      " ['SRR2126027' '0.0']\n",
      " ['SRR2126276' '0.0']\n",
      " ['SRR2126277' '0.0']\n",
      " ['SRR2126275' '0.0']\n",
      " ['SRR2126003' '0.0']\n",
      " ['SRR2126273' '0.0']\n",
      " ['SRR2126278' '0.0']\n",
      " ['SRR3140624' '0.0']\n",
      " ['SRR3140630' '0.0']\n",
      " ['SRR3140626' '0.0']\n",
      " ['SRR3141603' '0.0']\n",
      " ['SRR3140628' '0.0']\n",
      " ['SRR3140629' '0.0']\n",
      " ['SRR955463' '0.0']\n",
      " ['SRR955464' '0.0']\n",
      " ['ERR2528475' '0.0']\n",
      " ['SRR15935422' '0.6833669837437296']\n",
      " ['SRR15935421' '0.6773531183266714']\n",
      " ['SRR15938969' '0.5566083770283818']\n",
      " ['ERR2503173' '0.0']\n",
      " ['ERR2379737' '0.4190828003707185']\n",
      " ['SRR13144523' '0.6985455986508686']\n",
      " ['SRR13125403' '0.5006394344306204']\n",
      " ['SRR13125402' '0.49168299157287093']\n",
      " ['SRR13125398' '0.5298677582125936']\n",
      " ['SRR13125397' '0.49831815797045037']\n",
      " ['SRR13125400' '0.3932326796165944']\n",
      " ['SRR6049445' '0.0']\n",
      " ['SRR6049447' '0.0']\n",
      " ['SRR6049443' '0.0']\n",
      " ['SRR6049441' '0.0']\n",
      " ['SRR6049435' '0.0']\n",
      " ['SRR6049438' '0.0']\n",
      " ['SRR15796789' '0.6867259793528444']\n",
      " ['SRR513761' '0.0']\n",
      " ['SRR513763' '0.0']\n",
      " ['SRR513762' '0.0']\n",
      " ['SRR12218891' '0.0']\n",
      " ['SRR12218892' '0.08845884616641887']\n",
      " ['SRR12218884' '0.0']\n",
      " ['SRR12218882' '0.0']\n",
      " ['SRR12218893' '0.0']\n",
      " ['SRR12218894' '0.0']\n",
      " ['SRR12218889' '0.0']\n",
      " ['SRR12218876' '0.0']\n",
      " ['SRR12218877' '0.0']\n",
      " ['SRR12218887' '0.0']\n",
      " ['SRR12218886' '0.0']\n",
      " ['SRR12218871' '0.0']\n",
      " ['SRR12218885' '0.0']\n",
      " ['SRR12218883' '0.0']\n",
      " ['SRR12218873' '0.0']\n",
      " ['SRR12218888' '0.0']\n",
      " ['SRR12218890' '0.0']\n",
      " ['SRR9719184' '0.59059749519946']\n",
      " ['SRR9719185' '0.39674439518720933']\n",
      " ['SRR5569826' '0.0']\n",
      " ['SRR5569827' '0.0']\n",
      " ['SRR9192557' '0.0']\n",
      " ['SRR9192559' '0.0']\n",
      " ['SRR9192558' '0.0']\n",
      " ['SRR5448265' '0.0']\n",
      " ['SRR5448262' '0.0']\n",
      " ['SRR5448270' '0.0']\n",
      " ['SRR5448273' '0.0']\n",
      " ['SRR5448266' '0.0']\n",
      " ['SRR5448277' '0.0']\n",
      " ['SRR5448261' '0.0']\n",
      " ['SRR5448268' '0.0']\n",
      " ['SRR5448275' '0.0']\n",
      " ['SRR5448267' '0.0']\n",
      " ['SRR5448263' '0.0']\n",
      " ['SRR5448269' '0.0']\n",
      " ['SRR5448276' '0.0']\n",
      " ['SRR5448264' '0.0']\n",
      " ['SRR5448274' '0.0']\n",
      " ['SRR5448271' '0.0']\n",
      " ['SRR5448272' '0.0']\n",
      " ['SRR11426430' '0.680272302069723']\n",
      " ['SRR3458180' '0.0']\n",
      " ['SRR3458170' '0.0']\n",
      " ['SRR3458162' '0.0']\n",
      " ['SRR3458196' '0.0']\n",
      " ['SRR3458173' '0.0']\n",
      " ['SRR3458168' '0.0']\n",
      " ['SRR3458184' '0.0']\n",
      " ['SRR3458248' '0.0']\n",
      " ['SRR3458250' '0.0']\n",
      " ['SRR3458172' '0.0']\n",
      " ['SRR3458182' '0.0']\n",
      " ['SRR3458187' '0.0']\n",
      " ['SRR3458185' '0.0']\n",
      " ['SRR3458175' '0.0']\n",
      " ['SRR3458224' '0.0']\n",
      " ['SRR3458166' '0.0']\n",
      " ['SRR3458167' '0.0']\n",
      " ['SRR3458181' '0.0']\n",
      " ['SRR3458177' '0.0']\n",
      " ['SRR3458249' '0.0']\n",
      " ['SRR3458183' '0.0']\n",
      " ['SRR3458179' '0.0']\n",
      " ['SRR3458238' '0.0']\n",
      " ['SRR3458174' '0.0']\n",
      " ['SRR3458171' '0.0']\n",
      " ['SRR3458163' '0.0']\n",
      " ['SRR3458189' '0.0']\n",
      " ['SRR3458186' '0.0']\n",
      " ['SRR3458188' '0.0']\n",
      " ['SRR3458164' '0.0']\n",
      " ['SRR3458178' '0.0']\n",
      " ['SRR3458165' '0.0']\n",
      " ['SRR3458176' '0.0']\n",
      " ['SRR3458169' '0.0']\n",
      " ['DRR288166' '0.0']\n",
      " ['SRR504652' '0.0']\n",
      " ['SRR5383881' '0.0']\n",
      " ['SRR5383891' '0.0']\n",
      " ['SRR5383883' '0.0']\n",
      " ['SRR5383885' '0.0']\n",
      " ['SRR5383888' '0.0']\n",
      " ['SRR5383880' '0.0']\n",
      " ['SRR5383890' '0.0']\n",
      " ['SRR5383879' '0.0']\n",
      " ['SRR5383887' '0.0']\n",
      " ['SRR5383884' '0.0']\n",
      " ['SRR5383889' '0.0']\n",
      " ['SRR5383886' '0.0']\n",
      " ['SRR5383882' '0.0']\n",
      " ['SRR8280928' '0.6770915993713921']\n",
      " ['SRR8280929' '0.6623067403938031']\n",
      " ['DRR072352' '0.0']\n",
      " ['DRR072343' '0.0']\n",
      " ['DRR072348' '0.0']\n",
      " ['DRR072342' '0.0']\n",
      " ['DRR072350' '0.0']\n",
      " ['DRR072347' '0.0']\n",
      " ['DRR072351' '0.0']\n",
      " ['DRR072344' '0.0']\n",
      " ['DRR072346' '0.0']\n",
      " ['DRR072345' '0.0']\n",
      " ['DRR072349' '0.0']\n",
      " ['DRR072353' '0.0']\n",
      " ['SRR12424739' '0.0']\n",
      " ['ERR2535383' '0.6905825769916997']\n",
      " ['ERR2538120' '0.0']\n",
      " ['ERR2538124' '0.0']\n",
      " ['ERR2535382' '0.5905991387551096']\n",
      " ['ERR2538122' '0.0']\n",
      " ['ERR2538119' '0.0']\n",
      " ['ERR2535379' '0.630230933683297']\n",
      " ['ERR2535380' '0.577899425161262']\n",
      " ['ERR2535381' '0.5359427366357774']\n",
      " ['ERR2538121' '0.0']\n",
      " ['ERR2538125' '0.0']\n",
      " ['ERR2538123' '0.0']\n",
      " ['ERR2535377' '0.6009681479330041']\n",
      " ['ERR2581430' '0.0']\n",
      " ['ERR2581424' '0.0']\n",
      " ['ERR2581425' '0.0']\n",
      " ['ERR2581427' '0.0']\n",
      " ['ERR2581429' '0.0']\n",
      " ['ERR2581426' '0.0']\n",
      " ['ERR2581428' '0.0']\n",
      " ['ERR2581423' '0.0']\n",
      " ['SRR10566658' '0.0']\n",
      " ['SRR1796797' '0.0']\n",
      " ['SRR1796349' '0.0']\n",
      " ['SRR1796784' '0.0']\n",
      " ['SRR1796334' '0.0']\n",
      " ['SRR1796823' '0.0']\n",
      " ['SRR1796313' '0.0']\n",
      " ['SRR1796822' '0.0']\n",
      " ['SRR1796317' '0.0']\n",
      " ['SRR1796800' '0.0']\n",
      " ['SRR1796821' '0.0']\n",
      " ['SRR1796824' '0.0']\n",
      " ['SRR1796328' '0.0']\n",
      " ['SRR1796787' '0.0']\n",
      " ['SRR1796804' '0.0']\n",
      " ['SRR1796325' '0.0']\n",
      " ['SRR1796348' '0.0']\n",
      " ['SRR1796315' '0.0']\n",
      " ['SRR1796330' '0.0']\n",
      " ['SRR1796351' '0.0']\n",
      " ['SRR1796794' '0.0']\n",
      " ['SRR1796065' '0.0']\n",
      " ['SRR1796795' '0.0']\n",
      " ['SRR1796788' '0.0']\n",
      " ['SRR1796314' '0.0']\n",
      " ['SRR1796812' '0.0']\n",
      " ['SRR1796791' '0.0']\n",
      " ['SRR1796813' '0.0']\n",
      " ['SRR1796819' '0.0']\n",
      " ['SRR961669' '0.0']\n",
      " ['SRR3539911' '0.0']\n",
      " ['SRR3539916' '0.0']\n",
      " ['SRR3539913' '0.0']\n",
      " ['SRR3539910' '0.0']\n",
      " ['SRR3539912' '0.0']\n",
      " ['SRR3539909' '0.0']\n",
      " ['SRR6438485' '0.0']\n",
      " ['SRR6438488' '0.0']\n",
      " ['SRR6438482' '0.0']\n",
      " ['SRR6438487' '0.0']\n",
      " ['SRR6438483' '0.0']\n",
      " ['SRR6438491' '0.0']\n",
      " ['SRR6438489' '0.0']\n",
      " ['SRR6438484' '0.0']\n",
      " ['SRR6438490' '0.0']\n",
      " ['SRR6438486' '0.0']\n",
      " ['ERR2112226' '0.0']\n",
      " ['ERR2112233' '0.0']\n",
      " ['ERR2112228' '0.0']\n",
      " ['ERR2112230' '0.0']\n",
      " ['ERR2112227' '0.0']\n",
      " ['ERR2112229' '0.0']\n",
      " ['ERR2112231' '0.0']\n",
      " ['ERR2112232' '0.0']\n",
      " ['SRR5105967' '0.0']\n",
      " ['SRR5105957' '0.0']\n",
      " ['SRR5105958' '0.0']\n",
      " ['SRR5105965' '0.0']\n",
      " ['SRR5105964' '0.0']\n",
      " ['SRR5105962' '0.0']\n",
      " ['SRR5105960' '0.0']\n",
      " ['SRR5105966' '0.0']\n",
      " ['SRR11308343' '0.0']\n",
      " ['SRR11310657' '0.0']\n",
      " ['SRR11308346' '0.0']\n",
      " ['SRR11308348' '0.0']\n",
      " ['SRR11308351' '0.0']\n",
      " ['SRR11308342' '0.0']\n",
      " ['SRR11308341' '0.0']\n",
      " ['SRR11308345' '0.0']\n",
      " ['SRR11308349' '0.0']\n",
      " ['SRR11308344' '0.0']\n",
      " ['SRR11308347' '0.0']\n",
      " ['SRR11336162' '0.0']\n",
      " ['SRR11308350' '0.0']\n",
      " ['ERR5234718' '0.0']\n",
      " ['SRR1564119' '0.0']\n",
      " ['SRR1564129' '0.0']\n",
      " ['SRR1564125' '0.0']\n",
      " ['SRR1564130' '0.0']\n",
      " ['SRR1564122' '0.0']\n",
      " ['SRR1564128' '0.0']\n",
      " ['SRR1564120' '0.0']\n",
      " ['SRR1564126' '0.0']\n",
      " ['SRR1564124' '0.0']\n",
      " ['SRR1564127' '0.0']\n",
      " ['SRR1564123' '0.0']\n",
      " ['SRR1564121' '0.0']]\n"
     ]
    }
   ],
   "source": [
    "print(np.concatenate((np.array([x.split('/')[-1][:-len('_no_header.fasta.gz')] for x in gzip])[score_ratio <= 0.7].reshape(-1, 1), score_ratio[score_ratio <= 0.7].reshape(-1, 1)), axis=1))"
   ]
  },
  {
   "cell_type": "code",
   "execution_count": 20,
   "id": "5ed9f0c7",
   "metadata": {
    "ExecuteTime": {
     "end_time": "2021-11-08T11:23:51.495892Z",
     "start_time": "2021-11-08T11:23:51.292053Z"
    }
   },
   "outputs": [],
   "source": [
    "idx = score_ratio > 0.7\n",
    "gzip = np.array(gzip)[idx]\n",
    "gzip_size = gzip_size[idx]\n",
    "num_bp = num_bp[idx]\n",
    "spring_size = spring_size[idx]\n",
    "pfish_size = pfish_size[idx]\n",
    "mtg_size = mtg_size[idx]\n",
    "blast_size = blast_size[idx]\n",
    "mgblst_size = mgblst_size[idx]"
   ]
  },
  {
   "cell_type": "code",
   "execution_count": 21,
   "id": "30526982",
   "metadata": {
    "ExecuteTime": {
     "end_time": "2021-11-08T11:23:51.778713Z",
     "start_time": "2021-11-08T11:23:51.731690Z"
    }
   },
   "outputs": [
    {
     "data": {
      "text/plain": [
       "111.599186766"
      ]
     },
     "execution_count": 21,
     "metadata": {},
     "output_type": "execute_result"
    }
   ],
   "source": [
    "sum(gzip_size) / 1e9"
   ]
  },
  {
   "cell_type": "code",
   "execution_count": 22,
   "id": "cc211f0c",
   "metadata": {
    "ExecuteTime": {
     "end_time": "2021-11-08T11:23:52.583268Z",
     "start_time": "2021-11-08T11:23:52.538643Z"
    },
    "scrolled": true
   },
   "outputs": [
    {
     "data": {
      "text/plain": [
       "716.726703751"
      ]
     },
     "execution_count": 22,
     "metadata": {},
     "output_type": "execute_result"
    }
   ],
   "source": [
    "sum(num_bp) / 1e9"
   ]
  },
  {
   "cell_type": "code",
   "execution_count": 23,
   "id": "997fc48e",
   "metadata": {
    "ExecuteTime": {
     "end_time": "2021-11-08T11:23:55.256516Z",
     "start_time": "2021-11-08T11:23:54.964161Z"
    },
    "scrolled": true
   },
   "outputs": [
    {
     "name": "stdout",
     "output_type": "stream",
     "text": [
      "MegaBLAST compression: 0.1\n",
      "Pufferfish compression: 0.4\n",
      "BLAST compression: 3.0\n",
      "gzip -9 compression: 6.4\n",
      "mtg compression: 14.7\n",
      "Spring compression: 38.4\n"
     ]
    }
   ],
   "source": [
    "print(f\"MegaBLAST compression: {sum(num_bp) / sum(mgblst_size - blast_size):.1f}\")\n",
    "print(f\"Pufferfish compression: {sum(num_bp) / sum(pfish_size):.1f}\")\n",
    "print(f\"BLAST compression: {sum(num_bp) / sum(blast_size):.1f}\")\n",
    "print(f\"gzip -9 compression: {sum(num_bp) / sum(gzip_size):.1f}\")\n",
    "print(f\"mtg compression: {sum(num_bp) / sum(mtg_size):.1f}\")\n",
    "print(f\"Spring compression: {sum(num_bp) / sum(spring_size):.1f}\")"
   ]
  },
  {
   "cell_type": "code",
   "execution_count": 24,
   "id": "880c0ce0",
   "metadata": {
    "ExecuteTime": {
     "end_time": "2021-11-08T11:23:56.533129Z",
     "start_time": "2021-11-08T11:23:56.251949Z"
    },
    "scrolled": true
   },
   "outputs": [
    {
     "name": "stdout",
     "output_type": "stream",
     "text": [
      "MegaBLAST bits/bp: 125.848\n",
      "Pufferfish bits/bp: 21.816\n",
      "BLAST bits/bp: 2.678\n",
      "gzip -9 bits/bp: 1.246\n",
      "mtg bits/bp: 0.544\n",
      "Spring bits/bp: 0.208\n"
     ]
    }
   ],
   "source": [
    "print(f\"MegaBLAST bits/bp: {sum(mgblst_size - blast_size) * 8 / sum(num_bp):.3f}\")\n",
    "print(f\"Pufferfish bits/bp: {sum(pfish_size) * 8 / sum(num_bp):.3f}\")\n",
    "print(f\"BLAST bits/bp: {sum(blast_size) * 8 / sum(num_bp):.3f}\")\n",
    "print(f\"gzip -9 bits/bp: {sum(gzip_size) * 8 / sum(num_bp):.3f}\")\n",
    "print(f\"mtg bits/bp: {sum(mtg_size) * 8 / sum(num_bp):.3f}\")\n",
    "print(f\"Spring bits/bp: {sum(spring_size) * 8 / sum(num_bp):.3f}\")"
   ]
  },
  {
   "cell_type": "code",
   "execution_count": 25,
   "id": "d114abad",
   "metadata": {
    "ExecuteTime": {
     "end_time": "2021-11-08T11:24:03.026274Z",
     "start_time": "2021-11-08T11:23:58.068134Z"
    },
    "scrolled": true
   },
   "outputs": [
    {
     "data": {
      "image/png": "[encoded data removed]",
      "text/plain": [
       "<Figure size 376.596x325.856 with 1 Axes>"
      ]
     },
     "metadata": {
      "needs_background": "light"
     },
     "output_type": "display_data"
    }
   ],
   "source": [
    "width = 3.487 * 1.5 * 1\n",
    "height = width / 1.618 * 1.4\n",
    "\n",
    "x = np.array(num_bp)\n",
    "y = np.array(mtg_size * 8 / num_bp)\n",
    "plt.figure(figsize=(width, height))\n",
    "plt.scatter(x, y, color='b', alpha=0.1)\n",
    "\n",
    "plt.title('PacBio HiFi (viruses)')\n",
    "plt.ylabel('Size, bits/bp')\n",
    "plt.xlabel('Library size, bp')\n",
    "plt.grid()\n",
    "plt.xscale('log')\n",
    "plt.tight_layout()\n",
    "plt.savefig('hifi_size_vs_numbp.pdf', format='pdf', bbox_inches='tight')\n",
    "plt.show()"
   ]
  },
  {
   "cell_type": "code",
   "execution_count": 26,
   "id": "401e258a",
   "metadata": {
    "ExecuteTime": {
     "end_time": "2021-11-08T11:24:03.880116Z",
     "start_time": "2021-11-08T11:24:03.030505Z"
    },
    "scrolled": true
   },
   "outputs": [
    {
     "data": {
      "image/png": "[encoded data removed]",
      "text/plain": [
       "<Figure size 376.596x325.856 with 1 Axes>"
      ]
     },
     "metadata": {
      "needs_background": "light"
     },
     "output_type": "display_data"
    }
   ],
   "source": [
    "width = 3.487 * 1.5 * 1\n",
    "height = width / 1.618 * 1.4\n",
    "\n",
    "x = np.array(num_bp)\n",
    "y = np.array(pfish_size * 8 / num_bp)\n",
    "plt.figure(figsize=(width, height))\n",
    "plt.scatter(x, y, color='b', alpha=0.1)\n",
    "\n",
    "plt.title('PacBio HiFi (viruses)')\n",
    "plt.ylabel('Pufferfish, bits/bp')\n",
    "plt.xlabel('Library size, bp')\n",
    "plt.grid()\n",
    "plt.xscale('log')\n",
    "plt.tight_layout()\n",
    "# plt.savefig('hifi_size_vs_numbp.pdf', format='pdf', bbox_inches='tight')\n",
    "plt.show()"
   ]
  },
  {
   "cell_type": "code",
   "execution_count": 27,
   "id": "0b1bd8a9",
   "metadata": {
    "ExecuteTime": {
     "end_time": "2021-11-08T11:24:04.156226Z",
     "start_time": "2021-11-08T11:24:03.883880Z"
    }
   },
   "outputs": [],
   "source": [
    "# adapted from https://gist.github.com/jquacinella/1a6341f0f1446973714c\n",
    "import weighted  # install with 'pip install wquantiles'\n",
    "from matplotlib.cbook import violin_stats\n",
    "from scipy import stats\n",
    "from scipy.stats import gaussian_kde\n",
    "\n",
    "\n",
    "def vdensity_with_weights(weights):\n",
    "    ''' Outer function allows innder function access to weights. Matplotlib\n",
    "    needs function to take in data and coords, so this seems like only way\n",
    "    to 'pass' custom density function a set of weights '''\n",
    "\n",
    "    def vdensity(data, coords):\n",
    "        ''' Custom matplotlib weighted violin stats function '''\n",
    "        # Using weights from closure, get KDE fomr statsmodels\n",
    "        weighted_cost = gaussian_kde(data, weights=weights)\n",
    "\n",
    "        # Return y-values for graph of KDE by evaluating on coords\n",
    "        return weighted_cost.evaluate(coords)\n",
    "    return vdensity\n",
    "\n",
    "def custom_violin(data, weights, ax, positions=None, drop_outliers=False, **kwargs):\n",
    "    results = []\n",
    "\n",
    "    for i, (x, w) in enumerate(zip(data, weights)):\n",
    "        idx = np.ones(x.shape, dtype=bool)\n",
    "        if drop_outliers:\n",
    "            q1 = weighted.quantile_1D(x, w, 0.25)\n",
    "            q3 = weighted.quantile_1D(x, w, 0.75)\n",
    "            iqr = q3 - q1  # Interquartile range\n",
    "            fence_low = q1 - (1.5 * iqr)\n",
    "            fence_high = q3 + (1.5 * iqr)\n",
    "            idx = (x > fence_low) & (x < fence_high)\n",
    "\n",
    "        # Use matplotlib violin_stats, which expects a function that takes in data and coords\n",
    "        # which we get from closure above\n",
    "        results.append(violin_stats(np.array(x)[idx], vdensity_with_weights(np.array(w)[idx].astype(float)))[0])\n",
    "\n",
    "        # Get weighted median and mean (using weighted module for median)\n",
    "        median = weighted.quantile_1D(x, w, 0.5)\n",
    "        mean, sumw = np.ma.average(x, weights=w, returned=True)\n",
    "\n",
    "        # Update result dictionary with our updated info\n",
    "        results[i][u\"mean\"] = mean\n",
    "        results[i][u\"median\"] = median\n",
    "\n",
    "        # No need to do this, since it should be populated from violin_stats\n",
    "        # results[i][u\"min\"] =  np.min(x)\n",
    "        # results[i][u\"max\"] =  np.max(x)\n",
    "\n",
    "        out = x[~idx]\n",
    "        # if there are too many points in outliers because of the size of the\n",
    "        # dataset, we sample some of them to speed up the rendering of the plot\n",
    "        T = 0.003\n",
    "        if out.size > 1000:\n",
    "            out = np.sort(out)\n",
    "            last = out[0]\n",
    "            l = [last]\n",
    "            for v in out[1:]:\n",
    "                if v - last > T:\n",
    "                    last = v\n",
    "                    l.append(last)\n",
    "            out = np.array(l)\n",
    "            print(\"Num outliers rendered: {}\".format(out.size))\n",
    "\n",
    "        if 'vert' in kwargs.keys() and kwargs['vert']:\n",
    "            ax.scatter(positions[i] * np.ones(out.shape), out,\n",
    "                       marker='o', linewidth=0.3, edgecolor='black', color='white', s=3, zorder=3)\n",
    "        else:\n",
    "            ax.scatter(out, positions[i] * np.ones(out.shape),\n",
    "                       marker='o', linewidth=0.3, edgecolor='black', color='white', s=3, zorder=3)\n",
    "\n",
    "    parts = ax.violin(results, positions=positions, widths=0.6, **kwargs)\n",
    "    for partname in ('cmeans',):\n",
    "        parts[partname].set_colors('black')\n",
    "    return parts"
   ]
  },
  {
   "cell_type": "code",
   "execution_count": 28,
   "id": "f3bba44b",
   "metadata": {
    "ExecuteTime": {
     "end_time": "2021-11-08T11:24:06.109217Z",
     "start_time": "2021-11-08T11:24:04.160211Z"
    }
   },
   "outputs": [
    {
     "name": "stdout",
     "output_type": "stream",
     "text": [
      "Num outliers rendered: 528\n",
      "Num outliers rendered: 285\n",
      "Num outliers rendered: 223\n"
     ]
    },
    {
     "data": {
      "image/png": "[encoded data removed]",
      "text/plain": [
       "<Figure size 376.596x155.169 with 1 Axes>"
      ]
     },
     "metadata": {
      "needs_background": "light"
     },
     "output_type": "display_data"
    }
   ],
   "source": [
    "width = 3.487 * 1.5 * 1\n",
    "height = width / 1.618 / 1.5\n",
    "\n",
    "fig, ax = plt.subplots(figsize=(width, height))\n",
    "\n",
    "violin_data = [\n",
    "    8 * spring_size / num_bp,\n",
    "    8 * mtg_size / num_bp,\n",
    "    8 * gzip_size / num_bp,\n",
    "    8 * blast_size / num_bp,\n",
    "]\n",
    "labels = ['Spring (*)',\n",
    "          'Counting DBG\\nwith coordinates',\n",
    "          'gzip -9 (*)',\n",
    "          'BLAST',]\n",
    "violin_weights = [num_bp] * len(labels)\n",
    "pos = np.arange(len(violin_data)) / 1.3\n",
    "parts = custom_violin(violin_data, positions=pos, weights=violin_weights,\n",
    "              vert=False, showmeans=True, ax=ax, drop_outliers=True)\n",
    "#plt.violinplot(violin_data, vert=False, showmeans=True)\n",
    "\n",
    "def set_axis_style(ax, labels):\n",
    "    ax.yaxis.set_tick_params(direction='in')\n",
    "    ax.yaxis.set_ticks_position('left')\n",
    "    ax.set_yticks(pos)\n",
    "    ax.set_yticklabels(labels, size=11)\n",
    "\n",
    "set_axis_style(ax, labels)\n",
    "\n",
    "#plt.axvline(1, color='black', alpha=0.5, linestyle='dashed', linewidth=2)\n",
    "\n",
    "#plt.legend(fontsize=12)\n",
    "plt.xlabel('Size, bits/bp', size=11)\n",
    "plt.grid()\n",
    "plt.tight_layout()\n",
    "#plt.xlim([0, 15])\n",
    "plt.savefig('hifi_compression_violin.pdf', format='pdf', bbox_inches='tight')\n",
    "plt.show()"
   ]
  },
  {
   "cell_type": "code",
   "execution_count": 29,
   "id": "648197ec",
   "metadata": {
    "ExecuteTime": {
     "end_time": "2021-11-08T11:24:11.035954Z",
     "start_time": "2021-11-08T11:24:06.111077Z"
    },
    "scrolled": false
   },
   "outputs": [
    {
     "name": "stdout",
     "output_type": "stream",
     "text": [
      "Num outliers rendered: 222\n",
      "Num outliers rendered: 187\n",
      "Num outliers rendered: 216\n",
      "Num outliers rendered: 150\n",
      "Num outliers rendered: 82\n"
     ]
    },
    {
     "data": {
      "image/png": "[encoded data removed]",
      "text/plain": [
       "<Figure size 753.192x258.616 with 1 Axes>"
      ]
     },
     "metadata": {
      "needs_background": "light"
     },
     "output_type": "display_data"
    }
   ],
   "source": [
    "width = 3.487 * 1.5 * 2\n",
    "height = width / 1.618 / 1.8\n",
    "\n",
    "fig, ax = plt.subplots(figsize=(width, height))\n",
    "\n",
    "colors = ['b', 'orange', 'green', 'red']\n",
    "labels = ['gzip -9 (*)',\n",
    "          'Spring (*)',\n",
    "          'BLAST',\n",
    "          'This work']\n",
    "\n",
    "bs = [1e5, 1e6, 1e7, 1e8, np.inf]\n",
    "num_points = []\n",
    "for i in range(len(bs)):\n",
    "    if i == 0:\n",
    "        idx = num_bp < bs[0]\n",
    "    elif i == len(bs) - 1:\n",
    "        idx = num_bp > bs[-2]\n",
    "    else:\n",
    "        idx = (num_bp < bs[i]) & (num_bp >= bs[i - 1])\n",
    "    num_points.append(sum(idx))\n",
    "\n",
    "    violin_data = [gzip_size[idx] * 8 / num_bp[idx],\n",
    "                   spring_size[idx] * 8 / num_bp[idx],\n",
    "                   blast_size[idx] * 8 / num_bp[idx],\n",
    "                   mtg_size[idx] * 8 / num_bp[idx]]\n",
    "    violin_weights = [num_bp[idx],\n",
    "                      num_bp[idx],\n",
    "                      num_bp[idx],\n",
    "                      num_bp[idx],]\n",
    "    shift = len(violin_data)\n",
    "    pos = np.arange(1, len(violin_data) + 1) / 1.4\n",
    "    parts = custom_violin(violin_data, positions=shift*i + pos, weights=violin_weights,\n",
    "                          vert=True, showmeans=True, ax=ax, drop_outliers=True)\n",
    "#     parts = plt.violinplot(violin_data, positions=pos, vert=True, showmeans=True)\n",
    "#     for j in range(len(violin_data)):\n",
    "#         points = np.random.choice(violin_data[j], 10)\n",
    "#         sns.swarmplot(x=np.ones((points.size,)) * (shift*i + pos[j]), y=points,\n",
    "#                       color=\"black\", edgecolor=\"gray\", ax=ax)\n",
    "    for partname in ('cbars', 'cmins', 'cmaxes', 'cmeans'):\n",
    "        parts[partname].set_colors(colors)\n",
    "    for partname in ('cmeans',):\n",
    "        parts[partname].set_colors('black')\n",
    "#     ax.scatter(shift*i + pos, (np.array(violin_data) * np.array(violin_weights)).sum(1) / np.array(violin_weights).sum(1),\n",
    "#                marker='o', color='black', s=30, zorder=3)\n",
    "    for pc, c in zip(parts['bodies'], colors):\n",
    "        pc.set_color(c)\n",
    "        pc.set_alpha(0.3)\n",
    "        pc.set_edgecolor(c)\n",
    "        pc.set_linewidth(0.5)\n",
    "    ax.text((shift*i + pos[0] + shift*i + pos[-1]) / 2, 3.54, f'Group size: {num_points[i]}',\n",
    "            horizontalalignment='center', size=9)\n",
    "\n",
    "ax.yaxis.set_tick_params(direction='in')\n",
    "ax.yaxis.set_ticks_position('left')\n",
    "ax.xaxis.set_tick_params(length=0)\n",
    "#ax.xaxis.set_ticks_position('left')\n",
    "#ax.set_yticks(pos)\n",
    "ax.set_xticks([(shift*i + pos[0] + shift*i + pos[-1]) / 2 for i in range(len(bs))])\n",
    "# ax.set_yticks(np.arange(1, len(labels) + 1))\n",
    "def mult(x):\n",
    "    return int(x / 10**int(np.log10(x)))\n",
    "ax.set_xticklabels([f'$<10^{int(np.log10(bs[0]))}$'] +\n",
    "                   [f'$[{f\"{mult(bs[i-1])}{chr(92)}cdot \" if mult(bs[i-1]) != 1 else \"\"}10^{int(np.log10(bs[i-1]))}, '\n",
    "                    f'{f\"{mult(bs[i])}{chr(92)}cdot \" if mult(bs[i]) != 1 else \"\"}10^{int(np.log10(bs[i]))})$'\n",
    "                    for i in range(1, len(bs)-1)] +\n",
    "                   [f'$\\geq 10^{int(np.log10(bs[-2]))}$'])\n",
    "ax.xaxis.grid(True)\n",
    "ax.legend(parts['bodies'], labels, loc='lower left')\n",
    "#ax.set_ylim(0.25, len(labels) + 0.75)\n",
    "\n",
    "#plt.axvline(1, color='black', alpha=0.5, linestyle='dashed', linewidth=2)\n",
    "\n",
    "plt.ylabel('Size, bits/bp')\n",
    "plt.xlabel('Library size, bp')\n",
    "#plt.title('HiFi viruses')\n",
    "plt.grid()\n",
    "plt.tight_layout()\n",
    "#plt.xlim([0, 15])\n",
    "plt.savefig('hifi_compression_violin_groups.pdf', format='pdf', bbox_inches='tight')\n",
    "plt.show()"
   ]
  },
  {
   "cell_type": "markdown",
   "id": "03209b5d",
   "metadata": {},
   "source": [
    "## Illumina RNA-Seq reads"
   ]
  },
  {
   "cell_type": "code",
   "execution_count": 30,
   "id": "3d872be3",
   "metadata": {
    "ExecuteTime": {
     "end_time": "2021-11-08T11:24:12.385835Z",
     "start_time": "2021-11-08T11:24:12.313117Z"
    }
   },
   "outputs": [],
   "source": [
    "with open('kingsford_gzip_spring.pkl', 'rb') as f:\n",
    "    gzip, read_length, num_bp, gzip_size, fasta_size, spring_size = pickle.load(f)\n",
    "\n",
    "# gzip = !ls ~/metagenome/data/kingsford/compressed/*_no_header.fasta.gz\n",
    "\n",
    "# num_bp = []\n",
    "# read_length = []\n",
    "# spring_size = []\n",
    "# gzip_size = []\n",
    "# fasta_size = []\n",
    "\n",
    "# for x in tqdm(gzip, mininterval=1):\n",
    "#     gzip_size.append(get_size(x))\n",
    "#     fasta_size.append(get_size(x[:-len('.gz')]))\n",
    "#     ID = x[:-len('_no_header.fasta.gz')]\n",
    "#     spring_fname = f'{ID}_no_header.spring'\n",
    "#     spring_size.append(get_size(spring_fname))\n",
    "#     SRA = ID.split('/')[-1]\n",
    "#     fname = x[:-len('_no_header.fasta.gz')] + '.num_bp'\n",
    "#     with open(fname, 'r') as f:\n",
    "#         n = int(f.readline())\n",
    "#         num_bp.append(n)\n",
    "\n",
    "#     with gz.open(f'/cluster/home/mikhaika/metagenome/raw_data/kingsford/data_fasta/{SRA}.fasta.gz', 'r') as f:\n",
    "#         header = f.readline().strip().decode()\n",
    "#         L = int(str(header.split('=')[-1]))\n",
    "#         all_same_len = True\n",
    "#         for i in range(1000):  # check 1000 first reads\n",
    "#             header = f.readline().strip().decode()\n",
    "#             while header[0] != '>':\n",
    "#                 header = f.readline().strip().decode()\n",
    "#             if L != int(str(header.split('=')[-1])):\n",
    "#                 all_same_len = False\n",
    "#                 break\n",
    "#         read_length.append(L if all_same_len and num_bp[-1] % L == 0 else np.nan)\n",
    "\n",
    "# spring_size = np.array(spring_size)\n",
    "# gzip_size = np.array(gzip_size)\n",
    "# fasta_size = np.array(fasta_size)\n",
    "# read_length = np.array(read_length)\n",
    "# num_bp = np.array(num_bp)\n",
    "\n",
    "# with open('kingsford_gzip_spring.pkl', 'wb') as f:\n",
    "#     pickle.dump((gzip, read_length, num_bp, gzip_size, fasta_size, spring_size), f)"
   ]
  },
  {
   "cell_type": "code",
   "execution_count": 31,
   "id": "4ffcdd65",
   "metadata": {
    "ExecuteTime": {
     "end_time": "2021-11-08T11:24:13.988663Z",
     "start_time": "2021-11-08T11:24:13.967044Z"
    },
    "scrolled": false
   },
   "outputs": [
    {
     "data": {
      "text/plain": [
       "(2652, 7.973392066664)"
      ]
     },
     "execution_count": 31,
     "metadata": {},
     "output_type": "execute_result"
    }
   ],
   "source": [
    "len(num_bp), sum(num_bp) / 1e12"
   ]
  },
  {
   "cell_type": "code",
   "execution_count": 32,
   "id": "cae57556",
   "metadata": {
    "ExecuteTime": {
     "end_time": "2021-11-08T11:24:16.073770Z",
     "start_time": "2021-11-08T11:24:16.042547Z"
    }
   },
   "outputs": [],
   "source": [
    "with open('kingsford_mtg_size.pkl', 'rb') as f:\n",
    "    mtg_size = pickle.load(f)\n",
    "\n",
    "# mtg_size = []\n",
    "\n",
    "# DIR = !echo $HOME\n",
    "# DIR = f'{DIR[0]}/metagenome/data/kingsford_31_coordinates/'\n",
    "\n",
    "# for x in tqdm(gzip, mininterval=1):\n",
    "#     ID = x.split('/')[-1][:-len('_no_header.fasta.gz')]\n",
    "#     graph_size = get_size(f'{DIR}/{ID}.fasta.gz/graph_small.dbg')\n",
    "#     graph_size += get_size(f'{DIR}/{ID}.fasta.gz/graph.dbg.rd_succ')\n",
    "#     graph_size += get_size(f'{DIR}/{ID}.fasta.gz/graph.dbg.anchors')\n",
    "#     column_fname = f'{DIR}/{ID}.fasta.gz/rd_columns/annotation.column.annodbg'\n",
    "#     coords_fname = f'{DIR}/{ID}.fasta.gz/rd_columns/annotation.column.annodbg.coords'\n",
    "#     mtg_size.append(graph_size + get_size(column_fname) + get_size(coords_fname))\n",
    "\n",
    "# mtg_size = np.array(mtg_size)\n",
    "\n",
    "# with open('kingsford_mtg_size.pkl', 'wb') as f:\n",
    "#     pickle.dump(mtg_size, f)"
   ]
  },
  {
   "cell_type": "code",
   "execution_count": 33,
   "id": "09188d87",
   "metadata": {
    "ExecuteTime": {
     "end_time": "2021-11-08T11:24:16.720780Z",
     "start_time": "2021-11-08T11:24:16.697456Z"
    },
    "scrolled": true
   },
   "outputs": [],
   "source": [
    "with open('kingsford_mtg_2_size.pkl', 'rb') as f:\n",
    "    mtg2_size = pickle.load(f)\n",
    "\n",
    "# mtg2_size = []\n",
    "\n",
    "# DIR = !echo $HOME\n",
    "# DIR = f'{DIR[0]}/metagenome/data/kingsford_31_coordinates_fork_opt/'\n",
    "\n",
    "# for x in tqdm(gzip, mininterval=1):\n",
    "#     ID = x.split('/')[-1][:-len('_no_header.fasta.gz')]\n",
    "#     graph_size = get_size(f'{DIR}../kingsford_31_coordinates/{ID}.fasta.gz/graph_small.dbg')\n",
    "#     graph_size += get_size(f'{DIR}/{ID}.fasta.gz/graph.dbg.rd_succ')\n",
    "#     graph_size += get_size(f'{DIR}/{ID}.fasta.gz/graph.dbg.anchors')\n",
    "#     column_fname = f'{DIR}/{ID}.fasta.gz/rd_columns/annotation.column.annodbg'\n",
    "#     coords_fname = f'{DIR}/{ID}.fasta.gz/rd_columns/annotation.column.annodbg.coords'\n",
    "#     mtg2_size.append(graph_size + get_size(column_fname) + get_size(coords_fname))\n",
    "\n",
    "# mtg2_size = np.array(mtg2_size)\n",
    "\n",
    "# with open('kingsford_mtg_2_size.pkl', 'wb') as f:\n",
    "#     pickle.dump(mtg2_size, f)"
   ]
  },
  {
   "cell_type": "markdown",
   "id": "e749d076",
   "metadata": {
    "ExecuteTime": {
     "end_time": "2021-11-08T11:22:22.293017Z",
     "start_time": "2021-11-08T11:22:22.269550Z"
    }
   },
   "source": [
    "Select sets of reads of fixed length (31 or longer)"
   ]
  },
  {
   "cell_type": "code",
   "execution_count": 34,
   "id": "00936525",
   "metadata": {
    "ExecuteTime": {
     "end_time": "2021-11-08T11:24:21.759174Z",
     "start_time": "2021-11-08T11:24:21.732395Z"
    },
    "scrolled": true
   },
   "outputs": [
    {
     "name": "stdout",
     "output_type": "stream",
     "text": [
      "2411 read sets (90.9%), 7.55 Tbp\n"
     ]
    }
   ],
   "source": [
    "idx = (read_length >= 31)\n",
    "print(f'{idx.sum()} read sets ({idx.mean()*100:.1f}%), {num_bp[idx].sum() / 1e12:.2f} Tbp')"
   ]
  },
  {
   "cell_type": "markdown",
   "id": "9db31349",
   "metadata": {},
   "source": [
    "Counting de Bruijn graphs were constructed from all 2,411 libraries with reads of length at least 31."
   ]
  },
  {
   "cell_type": "code",
   "execution_count": 35,
   "id": "ea6fbfdd",
   "metadata": {
    "ExecuteTime": {
     "end_time": "2021-11-08T11:24:27.473505Z",
     "start_time": "2021-11-08T11:24:26.470593Z"
    },
    "scrolled": false
   },
   "outputs": [
    {
     "data": {
      "image/png": "[encoded data removed]",
      "text/plain": [
       "<Figure size 376.596x325.856 with 1 Axes>"
      ]
     },
     "metadata": {
      "needs_background": "light"
     },
     "output_type": "display_data"
    }
   ],
   "source": [
    "width = 3.487 * 1.5 * 1\n",
    "height = width / 1.618 * 1.4\n",
    "\n",
    "BYTES_IN_GB = 1e9\n",
    "\n",
    "x = np.array(gzip_size[idx]) / BYTES_IN_GB\n",
    "y = np.array(mtg2_size[idx]) / BYTES_IN_GB\n",
    "plt.figure(figsize=(width, height))\n",
    "w = num_bp[idx]\n",
    "plt.scatter(x, y, color='b', alpha=0.2, s=w / w.max() * 200)\n",
    "#plt.scatter(x, y, color='b', alpha=0.3)\n",
    "plt.plot([x.min(), x.max()], [x.min(), x.max()], ls=\"--\", c='red')\n",
    "\n",
    "i = (y / x)\n",
    "i[w < 1e9] = 0\n",
    "i = i.argsort()[::-1]\n",
    "n_labels = 7\n",
    "s = (y[i[:n_labels]] - x[i[:n_labels]]).argsort()\n",
    "for p in range(n_labels):\n",
    "    j = i[s[p]]\n",
    "    start, end = 9.7e9 / BYTES_IN_GB, 12.4e9 / BYTES_IN_GB\n",
    "    text_coord = 6.8e9 / BYTES_IN_GB, start + (end-start) * p/n_labels\n",
    "    plt.text(*text_coord, np.array(gzip)[idx][j].split('/')[-1].split('_')[0], size=9)\n",
    "    plt.arrow(*text_coord, -text_coord[0] + x[j], -text_coord[1] + y[j], linestyle=':', alpha=0.5)\n",
    "\n",
    "i = (y / x)\n",
    "i[w < 1e9] = np.inf\n",
    "i = i.argsort()\n",
    "n_labels = 7\n",
    "s = (y[i[:n_labels]] - x[i[:n_labels]]).argsort()\n",
    "for p in range(n_labels):\n",
    "    j = i[s[p]]\n",
    "    start, end = 2.4e9 / BYTES_IN_GB, -0.3e9 / BYTES_IN_GB\n",
    "    text_coord = 8.1e9 / BYTES_IN_GB, start + (end-start) * p/n_labels\n",
    "    plt.text(*text_coord, np.array(gzip)[idx][j].split('/')[-1].split('_')[0], size=9)\n",
    "    plt.arrow(*text_coord, -text_coord[0] + x[j], -text_coord[1] + y[j], linestyle=':', alpha=0.5)\n",
    "\n",
    "plt.ylabel('Index size, GB')\n",
    "plt.xlabel('gzip -9 (*), GB')\n",
    "plt.grid()\n",
    "plt.tight_layout()\n",
    "plt.savefig('size_vs_gzip.pdf', format='pdf', bbox_inches='tight')\n",
    "plt.show()"
   ]
  },
  {
   "cell_type": "markdown",
   "id": "6b89eae0",
   "metadata": {},
   "source": [
    "We fit the curve by minimizing the weighted RMSE:\n",
    "$\\sum_{i} N_i^2 (\\frac{S_i}{N_i} - \\hat{s_i})^2\n",
    "=\\sum_{i} (S_i - N_i\\hat{s_i})^2$, that is, minimizing the size prediction error."
   ]
  },
  {
   "cell_type": "code",
   "execution_count": 36,
   "id": "483c74b6",
   "metadata": {
    "ExecuteTime": {
     "end_time": "2021-11-08T11:24:31.091371Z",
     "start_time": "2021-11-08T11:24:30.257869Z"
    },
    "scrolled": true
   },
   "outputs": [
    {
     "data": {
      "image/png": "[encoded data removed]",
      "text/plain": [
       "<Figure size 376.596x325.856 with 1 Axes>"
      ]
     },
     "metadata": {
      "needs_background": "light"
     },
     "output_type": "display_data"
    }
   ],
   "source": [
    "width = 3.487 * 1.5 * 1\n",
    "height = width / 1.618 * 1.4\n",
    "\n",
    "x = np.array(read_length[idx])\n",
    "y = np.array(mtg2_size[idx] * 8 / num_bp[idx])\n",
    "plt.figure(figsize=(width, height))\n",
    "w = num_bp[idx]\n",
    "plt.scatter(x, y, color='b', alpha=0.2, s=w / w.max() * 200)\n",
    "#plt.scatter(x, y, color='b', alpha=0.3)\n",
    "\n",
    "def f(x, a, b):\n",
    "    return a*x + b\n",
    "(a, b), pcov2 = curve_fit(f, x, y, sigma=1/num_bp[idx], absolute_sigma=True)\n",
    "plt.plot([x.min(), x.max()], [f(x.min(), a, b), f(x.max(), a, b)], 'black')\n",
    "\n",
    "plt.ylabel('Index size, bits/bp')\n",
    "plt.xlabel('Read length, bp')\n",
    "plt.grid()\n",
    "plt.tight_layout()\n",
    "plt.savefig('size_vs_readlength.pdf', format='pdf', bbox_inches='tight')\n",
    "plt.show()"
   ]
  },
  {
   "cell_type": "code",
   "execution_count": 37,
   "id": "5522df59",
   "metadata": {
    "ExecuteTime": {
     "end_time": "2021-11-08T11:24:33.334370Z",
     "start_time": "2021-11-08T11:24:32.626894Z"
    }
   },
   "outputs": [
    {
     "data": {
      "image/png": "[encoded data removed]",
      "text/plain": [
       "<Figure size 376.596x325.856 with 1 Axes>"
      ]
     },
     "metadata": {
      "needs_background": "light"
     },
     "output_type": "display_data"
    }
   ],
   "source": [
    "width = 3.487 * 1.5 * 1\n",
    "height = width / 1.618 * 1.4\n",
    "\n",
    "plt.figure(figsize=(width, height))\n",
    "x = spring_size[idx] * 8 / num_bp[idx]\n",
    "y = mtg2_size[idx] * 8 / num_bp[idx]\n",
    "w = num_bp[idx]\n",
    "plt.scatter(x, y, color='b', alpha=0.2, s=w / w.max() * 200)\n",
    "plt.plot([x.min(), x.max()], [x.min(), x.max()], ls=\"--\", c='red')\n",
    "plt.ylabel('Counting DBG, bits/bp')\n",
    "plt.xlabel('Spring (*), bits/bp')\n",
    "plt.grid()\n",
    "plt.tight_layout()\n",
    "plt.savefig('compression_vs_spring.pdf', format='pdf', bbox_inches='tight')\n",
    "plt.show()"
   ]
  },
  {
   "cell_type": "code",
   "execution_count": 38,
   "id": "159afe09",
   "metadata": {
    "ExecuteTime": {
     "end_time": "2021-11-08T11:24:34.804460Z",
     "start_time": "2021-11-08T11:24:34.420078Z"
    },
    "scrolled": true
   },
   "outputs": [
    {
     "data": {
      "image/png": "[encoded data removed]",
      "text/plain": [
       "<Figure size 376.596x129.308 with 1 Axes>"
      ]
     },
     "metadata": {
      "needs_background": "light"
     },
     "output_type": "display_data"
    }
   ],
   "source": [
    "width = 3.487 * 1.5 * 1\n",
    "height = width / 1.618 / 1.8\n",
    "\n",
    "fig, ax = plt.subplots(figsize=(width, height))\n",
    "\n",
    "violin_data = [\n",
    "    8 * spring_size[idx] / num_bp[idx],\n",
    "    8 * mtg_size[idx] / num_bp[idx],\n",
    "    8 * gzip_size[idx] / num_bp[idx],\n",
    "]\n",
    "violin_weights = [num_bp[idx],\n",
    "                  num_bp[idx],\n",
    "                  num_bp[idx],]\n",
    "pos = np.arange(len(violin_data)) / 1.3\n",
    "custom_violin(violin_data, positions=pos, weights=violin_weights,\n",
    "              vert=False, showmeans=True, ax=ax, drop_outliers=True)\n",
    "#plt.violinplot(violin_data, vert=False, showmeans=True)\n",
    "\n",
    "def set_axis_style(ax, labels):\n",
    "    ax.yaxis.set_tick_params(direction='in')\n",
    "    ax.yaxis.set_ticks_position('left')\n",
    "    ax.set_yticks(pos)\n",
    "    ax.set_yticklabels(labels, size=11)\n",
    "\n",
    "set_axis_style(ax, ['Spring (*)',\n",
    "                    'Counting DBG\\nwith coordinates',\n",
    "                    'gzip -9 (*)',])\n",
    "\n",
    "#plt.axvline(1, color='black', alpha=0.5, linestyle='dashed', linewidth=2)\n",
    "\n",
    "#plt.legend(fontsize=12)\n",
    "plt.xlabel('Size, bits/bp', size=11)\n",
    "plt.grid()\n",
    "plt.tight_layout()\n",
    "#plt.xlim([0, 15])\n",
    "plt.savefig('compression_violin.pdf', format='pdf', bbox_inches='tight')\n",
    "plt.show()"
   ]
  },
  {
   "cell_type": "code",
   "execution_count": 39,
   "id": "658aec2f",
   "metadata": {
    "ExecuteTime": {
     "end_time": "2021-11-08T11:24:39.252695Z",
     "start_time": "2021-11-08T11:24:39.226309Z"
    }
   },
   "outputs": [],
   "source": [
    "hybrid_size = spring_size.copy()\n",
    "hybrid_size[hybrid_size > mtg2_size] = mtg2_size[hybrid_size > mtg2_size]"
   ]
  },
  {
   "cell_type": "code",
   "execution_count": 40,
   "id": "34e0c7d3",
   "metadata": {
    "ExecuteTime": {
     "end_time": "2021-11-08T11:24:42.992382Z",
     "start_time": "2021-11-08T11:24:42.387788Z"
    },
    "scrolled": true
   },
   "outputs": [
    {
     "data": {
      "image/png": "[encoded data removed]",
      "text/plain": [
       "<Figure size 489.575x189.113 with 1 Axes>"
      ]
     },
     "metadata": {
      "needs_background": "light"
     },
     "output_type": "display_data"
    }
   ],
   "source": [
    "width = 3.487 * 1.5 * 1.3\n",
    "height = width / 1.618 / 1.6\n",
    "\n",
    "fig, ax = plt.subplots(figsize=(width, height))\n",
    "\n",
    "violin_data = [8 * hybrid_size[idx] / num_bp[idx],\n",
    "               8 * spring_size[idx] / num_bp[idx],\n",
    "               8 * mtg2_size[idx] / num_bp[idx],\n",
    "               8 * mtg_size[idx] / num_bp[idx],\n",
    "               8 * gzip_size[idx] / num_bp[idx],]\n",
    "labels = ['Hybrid-best (*)',\n",
    "          'Spring (*)',\n",
    "          'Counting DBG with coord.\\n(multiple successors)',\n",
    "          'Counting DBG with coord.\\n(single successor)',\n",
    "          'gzip -9 (*)',]\n",
    "violin_weights = [num_bp[idx]] * len(labels)\n",
    "pos = np.arange(len(violin_data)) / 1.2\n",
    "custom_violin(violin_data, positions=pos, weights=violin_weights,\n",
    "              vert=False, showmeans=True, ax=ax, drop_outliers=True)\n",
    "#plt.violinplot(violin_data, vert=False, showmeans=True)\n",
    "\n",
    "ax.yaxis.set_tick_params(direction='in')\n",
    "ax.yaxis.set_ticks_position('left')\n",
    "ax.set_yticks(pos)\n",
    "ax.set_yticklabels(labels)\n",
    "\n",
    "#plt.axvline(1, color='black', alpha=0.5, linestyle='dashed', linewidth=2)\n",
    "\n",
    "#plt.legend(fontsize=12)\n",
    "plt.xlabel('Size, bits/bp')\n",
    "plt.grid()\n",
    "plt.tight_layout()\n",
    "#plt.xlim([0, 15])\n",
    "plt.savefig('compression_violin_extended.pdf', format='pdf', bbox_inches='tight')\n",
    "plt.show()"
   ]
  },
  {
   "cell_type": "code",
   "execution_count": 41,
   "id": "1cc29d52",
   "metadata": {
    "ExecuteTime": {
     "end_time": "2021-11-08T11:24:48.823234Z",
     "start_time": "2021-11-08T11:24:48.787432Z"
    }
   },
   "outputs": [
    {
     "name": "stdout",
     "output_type": "stream",
     "text": [
      "num samples: 2411\n",
      "gzip size: 1917 GB\n",
      "spring size: 986 GB\n",
      "spring compression: 1.94 x\n",
      "spring compression: 49 %\n",
      "mtg size: 1544 GB\n",
      "mtg compression: 1.24 x\n",
      "mtg compression: 19 %\n",
      "mtg (multiple succ.) size: 1405 GB\n",
      "mtg (multiple succ.) compression: 1.36 x\n",
      "mtg (multiple succ.) compression: 27 %\n",
      "hybrid (best) size: 890 GB\n",
      "hybrid (best) compression: 2.16 x\n",
      "hybrid (best) compression: 54 %\n"
     ]
    }
   ],
   "source": [
    "print('num samples:', sum(idx))\n",
    "print(f'gzip size: {gzip_size[idx].sum() / 1e9:.0f} GB')\n",
    "\n",
    "print(f'spring size: {spring_size[idx].sum() / 1e9:.0f} GB')\n",
    "print(f'spring compression: {gzip_size[idx].sum() / spring_size[idx].sum():.2f} x')\n",
    "print(f'spring compression: {100 - spring_size[idx].sum() / gzip_size[idx].sum() * 100:.0f} %')\n",
    "\n",
    "print(f'mtg size: {mtg_size[idx].sum() / 1e9:.0f} GB')\n",
    "print(f'mtg compression: {gzip_size[idx].sum() / mtg_size[idx].sum():.2f} x')\n",
    "print(f'mtg compression: {100 - mtg_size[idx].sum() / gzip_size[idx].sum() * 100:.0f} %')\n",
    "\n",
    "print(f'mtg (multiple succ.) size: {mtg2_size[idx].sum() / 1e9:.0f} GB')\n",
    "print(f'mtg (multiple succ.) compression: {gzip_size[idx].sum() / mtg2_size[idx].sum():.2f} x')\n",
    "print(f'mtg (multiple succ.) compression: {100 - mtg2_size[idx].sum() / gzip_size[idx].sum() * 100:.0f} %')\n",
    "\n",
    "print(f'hybrid (best) size: {hybrid_size[idx].sum() / 1e9:.0f} GB')\n",
    "print(f'hybrid (best) compression: {gzip_size[idx].sum() / hybrid_size[idx].sum():.2f} x')\n",
    "print(f'hybrid (best) compression: {100 - hybrid_size[idx].sum() / gzip_size[idx].sum() * 100:.0f} %')\n"
   ]
  },
  {
   "cell_type": "code",
   "execution_count": 42,
   "id": "3bec41cd",
   "metadata": {
    "ExecuteTime": {
     "end_time": "2021-11-08T11:25:07.506608Z",
     "start_time": "2021-11-08T11:25:07.312044Z"
    },
    "scrolled": true
   },
   "outputs": [
    {
     "name": "stdout",
     "output_type": "stream",
     "text": [
      "gzip -9 compression: 3.9\n",
      "mtg(single) compression: 4.9\n",
      "mtg(mult.) compression: 5.4\n",
      "Spring compression: 7.7\n",
      "Hybrid compression: 8.5\n"
     ]
    }
   ],
   "source": [
    "print(f\"gzip -9 compression: {sum(num_bp[idx]) / sum(gzip_size[idx]):.1f}\")\n",
    "print(f\"mtg(single) compression: {sum(num_bp[idx]) / sum(mtg_size[idx]):.1f}\")\n",
    "print(f\"mtg(mult.) compression: {sum(num_bp[idx]) / sum(mtg2_size[idx]):.1f}\")\n",
    "print(f\"Spring compression: {sum(num_bp[idx]) / sum(spring_size[idx]):.1f}\")\n",
    "print(f\"Hybrid compression: {sum(num_bp[idx]) / sum(hybrid_size[idx]):.1f}\")"
   ]
  },
  {
   "cell_type": "code",
   "execution_count": 43,
   "id": "3036cdbd",
   "metadata": {
    "ExecuteTime": {
     "end_time": "2021-11-08T11:25:08.644721Z",
     "start_time": "2021-11-08T11:25:08.614111Z"
    }
   },
   "outputs": [
    {
     "name": "stdout",
     "output_type": "stream",
     "text": [
      "gzip -9 bits/bp: 2.030\n",
      "mtg(single) bits/bp: 1.636\n",
      "mtg(mult.) bits/bp: 1.488\n",
      "Spring bits/bp: 1.044\n",
      "Hybrid bits/bp: 0.942\n"
     ]
    }
   ],
   "source": [
    "print(f\"gzip -9 bits/bp: {sum(gzip_size[idx]) * 8 / sum(num_bp[idx]):.3f}\")\n",
    "print(f\"mtg(single) bits/bp: {sum(mtg_size[idx]) * 8 / sum(num_bp[idx]):.3f}\")\n",
    "print(f\"mtg(mult.) bits/bp: {sum(mtg2_size[idx]) * 8 / sum(num_bp[idx]):.3f}\")\n",
    "print(f\"Spring bits/bp: {sum(spring_size[idx]) * 8 / sum(num_bp[idx]):.3f}\")\n",
    "print(f\"Hybrid bits/bp: {sum(hybrid_size[idx]) * 8 / sum(num_bp[idx]):.3f}\")"
   ]
  },
  {
   "cell_type": "markdown",
   "id": "9281347e",
   "metadata": {},
   "source": [
    "## Dependency on k-mer length"
   ]
  },
  {
   "cell_type": "code",
   "execution_count": 44,
   "id": "df4b9a8e",
   "metadata": {
    "ExecuteTime": {
     "end_time": "2021-11-08T11:25:14.405265Z",
     "start_time": "2021-11-08T11:25:14.284251Z"
    }
   },
   "outputs": [
    {
     "data": {
      "text/plain": [
       "[19, 22, 25, 28, 31, 34, 37, 40, 43, 46, 49, 52]"
      ]
     },
     "execution_count": 44,
     "metadata": {},
     "output_type": "execute_result"
    }
   ],
   "source": [
    "DIR = '/cluster/home/mikhaika/metagenome/data/coordinates_K'\n",
    "\n",
    "ks = !ls $DIR\n",
    "ks = [16, 19, 22, 25, 28, 31, 34, 37, 40, 43, 46, 49, 52]\n",
    "ks = ks[1:]\n",
    "ks"
   ]
  },
  {
   "cell_type": "code",
   "execution_count": 45,
   "id": "f5c6c3a6",
   "metadata": {
    "ExecuteTime": {
     "end_time": "2021-11-08T11:25:20.873469Z",
     "start_time": "2021-11-08T11:25:18.403681Z"
    }
   },
   "outputs": [
    {
     "name": "stdout",
     "output_type": "stream",
     "text": [
      "SRR805801 #1f77b4\n",
      "SRR3747284 #ff7f0e\n",
      "SRR13577847 #2ca02c\n"
     ]
    },
    {
     "data": {
      "image/png": "[encoded data removed]",
      "text/plain": [
       "<Figure size 391.66x242.064 with 1 Axes>"
      ]
     },
     "metadata": {
      "needs_background": "light"
     },
     "output_type": "display_data"
    }
   ],
   "source": [
    "width = 3.487 * 1.56 * 1\n",
    "height = width / 1.618\n",
    "\n",
    "fig = plt.figure(figsize=(width, height))\n",
    "\n",
    "files = [\n",
    "    'SRR805801_no_header.fasta.gz',\n",
    "    'm64011_181218_235052.fastq.gz',\n",
    "    'SRR3747284_subreads.fastq.gz',\n",
    "#    'SRR3747411_subreads.fastq.gz',\n",
    "    'SRR386922_subreads.fastq.gz',\n",
    "#    'SRR4063132_subreads.fastq.gz',\n",
    "#    'SRR4235456_subreads.fastq.gz',\n",
    "#    'SRR11304401_subreads.fastq.gz',\n",
    "#    'SRR13684276.fastq.gz',\n",
    "    'SRR13577847_subreads.fastq.gz'\n",
    "]\n",
    "\n",
    "for ID in files:\n",
    "    total_size = []\n",
    "    graph_size = []\n",
    "    annotation_size = []\n",
    "    FILE = f'{DIR}/data/{ID[:-3]}_no_header.fasta.gz'\n",
    "    gzip_size = get_size(FILE)\n",
    "    #!zcat {FILE} | paste - - | cut -f2 | tr -d '\\n' | wc -c > {FILE}.num_bp\n",
    "    num_bp = !cat {FILE}.num_bp\n",
    "    num_bp = int(num_bp[0])\n",
    "    for k in ks:\n",
    "        g = get_size(f'{DIR}/{k}/{ID}/graph_small.dbg')\n",
    "        g += get_size(f'{DIR}/{k}/{ID}/graph.dbg.rd_succ')\n",
    "        g += get_size(f'{DIR}/{k}/{ID}/graph.dbg.anchors')\n",
    "        column_fname = f'{DIR}/{k}/{ID}/rd_columns/annotation.column.annodbg'\n",
    "        coords_fname = f'{DIR}/{k}/{ID}/rd_columns/annotation.column.annodbg.coords'\n",
    "        graph_size.append(g)\n",
    "        annotation_size.append(get_size(column_fname) + get_size(coords_fname))\n",
    "        total_size.append(graph_size[-1] + annotation_size[-1])\n",
    "\n",
    "    if np.isnan(np.array(total_size)).sum():\n",
    "        continue\n",
    "\n",
    "    p = plt.plot(ks, np.array(graph_size) * 8 / num_bp, label=f\"{ID.split('_')[0]}: Graph\", linestyle='-.', marker='')\n",
    "    plt.plot(ks, np.array(annotation_size) * 8 / num_bp, label=f\"{ID.split('_')[0]}: Annotation\", linestyle=':', marker='^', color=p[0].get_color())\n",
    "    plt.plot(ks, np.array(total_size) * 8 / num_bp, label=f\"{ID.split('_')[0]}: Total\", color=p[0].get_color())\n",
    "    print(ID.split('_')[0], p[0].get_color())\n",
    "\n",
    "ax = fig.axes[0]\n",
    "x_lim = ax.get_xlim()\n",
    "\n",
    "ax.set_xlim(x_lim)\n",
    "\n",
    "plt.xlabel('k-mer length')\n",
    "plt.ylabel('Size, bits/bp')\n",
    "plt.grid()\n",
    "\n",
    "ds = [2]\n",
    "dc = [2.2]\n",
    "asim = [2.1]\n",
    "ac = [2.1]\n",
    "\n",
    "categories = ['Graph', 'Annotation', 'Total']\n",
    "\n",
    "p11, = plt.plot([1], '-.', color='#1f77b4')\n",
    "p12, = plt.plot([1.2], ':^', color='#1f77b4')\n",
    "p13, = plt.plot([1.1], '-', color='#1f77b4')\n",
    "p21, = plt.plot([1], '-.', color='#ff7f0e')\n",
    "p22, = plt.plot([1.2], ':^', color='#ff7f0e')\n",
    "p23, = plt.plot([1.1], '-', color='#ff7f0e')\n",
    "p31, = plt.plot([1], '-.', color='#2ca02c')\n",
    "p32, = plt.plot([1.2], ':^', color='#2ca02c')\n",
    "p33, = plt.plot([1.1], '-', color='#2ca02c')\n",
    "p1, = plt.plot([0], marker='None', linestyle='None')\n",
    "p2, = plt.plot([0],  marker='None', linestyle='None')\n",
    "p3, = plt.plot([0],  marker='None', linestyle='None')\n",
    "\n",
    "leg3 = plt.legend([p1, p11, p12, p13, p2, p21, p22, p23, p3, p31, p32, p33],\n",
    "              ['SRR805801'] + categories + ['SRR3747284'] + categories + ['SRR13577847'] + categories,\n",
    "              loc='best', ncol=3, fontsize=9) # Two columns, vertical group labels\n",
    "\n",
    "plt.tight_layout()\n",
    "plt.savefig('size_vs_k.pdf', format='pdf', bbox_inches='tight')\n",
    "plt.show()"
   ]
  }
 ],
 "metadata": {
  "kernelspec": {
   "display_name": "Python 3",
   "language": "python",
   "name": "python3"
  },
  "language_info": {
   "codemirror_mode": {
    "name": "ipython",
    "version": 3
   },
   "file_extension": ".py",
   "mimetype": "text/x-python",
   "name": "python",
   "nbconvert_exporter": "python",
   "pygments_lexer": "ipython3",
   "version": "3.7.10"
  },
  "toc": {
   "base_numbering": 1,
   "nav_menu": {},
   "number_sections": true,
   "sideBar": true,
   "skip_h1_title": true,
   "title_cell": "Table of Contents",
   "title_sidebar": "Contents",
   "toc_cell": false,
   "toc_position": {
    "height": "calc(100% - 180px)",
    "left": "10px",
    "top": "150px",
    "width": "232.5px"
   },
   "toc_section_display": true,
   "toc_window_display": true
  }
 },
 "nbformat": 4,
 "nbformat_minor": 5
}
